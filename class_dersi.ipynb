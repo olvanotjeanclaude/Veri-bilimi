{
 "cells": [
  {
   "cell_type": "code",
   "execution_count": 3,
   "metadata": {},
   "outputs": [],
   "source": [
    "class Kopek:\n",
    "    def __init__(self):\n",
    "        pass"
   ]
  },
  {
   "cell_type": "code",
   "execution_count": 4,
   "metadata": {},
   "outputs": [],
   "source": [
    "comar=Kopek()"
   ]
  },
  {
   "cell_type": "code",
   "execution_count": 5,
   "metadata": {},
   "outputs": [
    {
     "name": "stdout",
     "output_type": "stream",
     "text": [
      "<__main__.Kopek object at 0x10724cbc0>\n"
     ]
    }
   ],
   "source": [
    "print(comar)"
   ]
  },
  {
   "cell_type": "code",
   "execution_count": 11,
   "metadata": {},
   "outputs": [],
   "source": [
    "class Kopek:\n",
    "    def __init__(self, isim, yas):\n",
    "        self.isim=isim\n",
    "        self.yas=yas"
   ]
  },
  {
   "cell_type": "code",
   "execution_count": 13,
   "metadata": {},
   "outputs": [],
   "source": [
    "comar=Kopek('Çomar', 3)"
   ]
  },
  {
   "cell_type": "code",
   "execution_count": 15,
   "metadata": {},
   "outputs": [
    {
     "data": {
      "text/plain": [
       "'Çomar'"
      ]
     },
     "execution_count": 15,
     "metadata": {},
     "output_type": "execute_result"
    }
   ],
   "source": [
    "comar.isim"
   ]
  },
  {
   "cell_type": "code",
   "execution_count": 19,
   "metadata": {},
   "outputs": [
    {
     "data": {
      "text/plain": [
       "3"
      ]
     },
     "execution_count": 19,
     "metadata": {},
     "output_type": "execute_result"
    }
   ],
   "source": [
    "comar.yas"
   ]
  },
  {
   "cell_type": "code",
   "execution_count": 29,
   "metadata": {},
   "outputs": [],
   "source": [
    "class Kopek:\n",
    "    def __init__(self, isim, yas):\n",
    "        self.isim=isim\n",
    "        self.yas=yas\n",
    "    def havla(self):\n",
    "        print(\"Hav hav\")"
   ]
  },
  {
   "cell_type": "code",
   "execution_count": 31,
   "metadata": {},
   "outputs": [],
   "source": [
    "comar=Kopek('Çomar', 3)"
   ]
  },
  {
   "cell_type": "code",
   "execution_count": 33,
   "metadata": {},
   "outputs": [
    {
     "name": "stdout",
     "output_type": "stream",
     "text": [
      "Hav hav\n"
     ]
    }
   ],
   "source": [
    "comar.havla()"
   ]
  },
  {
   "cell_type": "code",
   "execution_count": 39,
   "metadata": {},
   "outputs": [],
   "source": [
    "class Kopek:\n",
    "    def __init__(self, isim, yas):\n",
    "        self.isim=isim\n",
    "        self.yas=yas\n",
    "    def havla(self):\n",
    "        print(\"Hav hav\")\n",
    "    def kendini_tanit(self):\n",
    "        print(\"Benim adım \" + self.isim)\n",
    "        print(\"Benim yaşım \" + str(self.yas))"
   ]
  },
  {
   "cell_type": "code",
   "execution_count": 41,
   "metadata": {},
   "outputs": [
    {
     "name": "stdout",
     "output_type": "stream",
     "text": [
      "Benim adım KARA\n",
      "Benim yaşım 13\n"
     ]
    }
   ],
   "source": [
    "kara=Kopek(\"KARA\",13)\n",
    "kara.kendini_tanit()"
   ]
  },
  {
   "cell_type": "code",
   "execution_count": 43,
   "metadata": {},
   "outputs": [],
   "source": [
    "class Kopek:\n",
    "    def __init__(self, isim, yas):\n",
    "        self.isim=isim\n",
    "        self.yas=yas\n",
    "    def havla(self):\n",
    "        print(\"Hav hav\")\n",
    "    def kendini_tanit(self):\n",
    "        print(\"Benim adım \" + self.isim)\n",
    "        print(\"Benim yaşım \" + str(self.yas))\n",
    "    def yaslandir(self):\n",
    "        self.yas=self.yas+1"
   ]
  },
  {
   "cell_type": "code",
   "execution_count": 47,
   "metadata": {},
   "outputs": [
    {
     "data": {
      "text/plain": [
       "14"
      ]
     },
     "execution_count": 47,
     "metadata": {},
     "output_type": "execute_result"
    }
   ],
   "source": [
    "comar=Kopek('Çomar',13)\n",
    "comar.yaslandir()\n",
    "comar.yas"
   ]
  },
  {
   "cell_type": "code",
   "execution_count": 49,
   "metadata": {},
   "outputs": [
    {
     "data": {
      "text/plain": [
       "15"
      ]
     },
     "execution_count": 49,
     "metadata": {},
     "output_type": "execute_result"
    }
   ],
   "source": [
    "comar.yaslandir()\n",
    "comar.yas"
   ]
  },
  {
   "cell_type": "code",
   "execution_count": 1,
   "metadata": {},
   "outputs": [],
   "source": [
    "class Kopek:\n",
    "    def __init__(self, isim, yas):\n",
    "        self.isim=isim\n",
    "        self.yas=yas\n",
    "    def havla(self):\n",
    "        print(\"Hav hav\")\n",
    "    def kendini_tanit(self):\n",
    "        print(\"Benim adım \" + self.isim)\n",
    "        print(\"Benim yaşım \" + str(self.yas))\n",
    "    def yaslandir(self):\n",
    "        self.yas+=1\n",
    "    def arkadas_et(self, diger):\n",
    "        self.arkadas=diger\n",
    "        diger.arkadas=self"
   ]
  },
  {
   "cell_type": "code",
   "execution_count": 6,
   "metadata": {},
   "outputs": [
    {
     "name": "stdout",
     "output_type": "stream",
     "text": [
      "Zeytin\n",
      "Çomar\n"
     ]
    }
   ],
   "source": [
    "comar=Kopek(\"Çomar\", 2)\n",
    "zeytin=Kopek(\"Zeytin\", 3)\n",
    "comar.arkadas_et(zeytin)\n",
    "\n",
    "print(comar.arkadas.isim)\n",
    "print(zeytin.arkadas.isim)\n",
    "karabas=Kopek(\"Karabas\", 4)\n"
   ]
  },
  {
   "cell_type": "code",
   "execution_count": 7,
   "metadata": {},
   "outputs": [],
   "source": [
    "# Ör: köpeklerden en yaşlı olanın adını ve yaşını ekrana yazan fonksiyonu yazınız\n",
    "def en_yasli_hangisi(*kopekler):\n",
    "        x=[i.yas for i in kopekler]\n",
    "        indx=x.index(max(x))\n",
    "        print(kopekler[indx].isim +\" \"+ str(kopekler[indx].yas))      "
   ]
  },
  {
   "cell_type": "code",
   "execution_count": 8,
   "metadata": {},
   "outputs": [
    {
     "name": "stdout",
     "output_type": "stream",
     "text": [
      "Zeytin 3\n"
     ]
    }
   ],
   "source": [
    "en_yasli_hangisi(zeytin, comar)"
   ]
  },
  {
   "cell_type": "code",
   "execution_count": 10,
   "metadata": {},
   "outputs": [],
   "source": [
    "class Kopek:\n",
    "    tur=\"memeli\"\n",
    "    def __init__(self, isim, yas):\n",
    "        self.isim=isim\n",
    "        self.yas=yas\n",
    "    def havla(self):\n",
    "        print(\"Hav hav\")\n",
    "    def kendini_tanit(self):\n",
    "        print(\"Benim adım \" + self.isim)\n",
    "        print(\"Benim yaşım \" + str(self.yas))\n",
    "    def yaslandir(self):\n",
    "        self.yas+=1\n",
    "    def arkadas_et(self, diger):\n",
    "        self.arkadas=diger\n",
    "        diger.arkadas=self"
   ]
  },
  {
   "cell_type": "code",
   "execution_count": 11,
   "metadata": {},
   "outputs": [
    {
     "name": "stdout",
     "output_type": "stream",
     "text": [
      "memeli\n",
      "surungen\n",
      "memeli\n",
      "ayaklı\n",
      "2\n"
     ]
    }
   ],
   "source": [
    "comar=Kopek(\"Çomar\", 2)\n",
    "print(comar.tur)\n",
    "comar.tur=\"surungen\"\n",
    "print(comar.tur)\n",
    "print(Kopek.tur)\n",
    "Kopek.tur=\"ayaklı\"\n",
    "print(Kopek.tur)\n",
    "comar.kulak_sayisi=2\n",
    "print(comar.kulak_sayisi)"
   ]
  },
  {
   "cell_type": "code",
   "execution_count": 12,
   "metadata": {},
   "outputs": [
    {
     "name": "stdout",
     "output_type": "stream",
     "text": [
      "İsim : Bahar, Maaş: 2000\n",
      "İsim : Mehmet, Maaş: 5000\n",
      "Toplam çalışan :3\n"
     ]
    }
   ],
   "source": [
    "class Calisan:\n",
    "    '''Çalışanlar hakkında bilgi verir'''\n",
    "    calisanSayisi = 0\n",
    "\n",
    "    def __init__(self, ad, maas):\n",
    "        self.ad = ad\n",
    "        self.maas = maas\n",
    "        Calisan.calisanSayisi += 1\n",
    "   \n",
    "    def calisan_sayisini_yaz(self):\n",
    "        print (\"Toplam çalışan %d\" % Calisan.calisanSayisi)\n",
    "\n",
    "    def calisan_bilgisi_ver(self):\n",
    "        print (\"İsim : \"+ self.ad + \", Maaş: \" + str(self.maas))\n",
    "\n",
    "calisan1 = Calisan(\"Bahar\", 2000)\n",
    "calisan2 = Calisan(\"Mehmet\", 5000)\n",
    "calisan3 = Calisan(\"hakan\", 5000)\n",
    "\n",
    "calisan1.calisan_bilgisi_ver()\n",
    "calisan2.calisan_bilgisi_ver()\n",
    "print(\"Toplam çalışan :\" + str(Calisan.calisanSayisi))"
   ]
  },
  {
   "cell_type": "code",
   "execution_count": 79,
   "metadata": {},
   "outputs": [
    {
     "name": "stdout",
     "output_type": "stream",
     "text": [
      "3\n"
     ]
    }
   ],
   "source": [
    "print(Calisan.calisanSayisi)"
   ]
  },
  {
   "cell_type": "code",
   "execution_count": 81,
   "metadata": {},
   "outputs": [],
   "source": [
    "calisan4 = Calisan(\"ahmet\", 5000)\n"
   ]
  },
  {
   "cell_type": "code",
   "execution_count": 83,
   "metadata": {},
   "outputs": [
    {
     "name": "stdout",
     "output_type": "stream",
     "text": [
      "4\n",
      "İsim : Mehmet, Maaş: 5000\n"
     ]
    }
   ],
   "source": [
    "print(Calisan.calisanSayisi)\n",
    "calisan2.calisan_bilgisi_ver()\n"
   ]
  },
  {
   "cell_type": "code",
   "execution_count": 85,
   "metadata": {},
   "outputs": [],
   "source": [
    "calisan5 = Calisan(\"şükrü\", 50000)\n"
   ]
  },
  {
   "cell_type": "code",
   "execution_count": 13,
   "metadata": {},
   "outputs": [
    {
     "name": "stdout",
     "output_type": "stream",
     "text": [
      "Calisan.__doc__:Çalışanlar hakkında bilgi verir\n",
      "Calisan.__name__:Calisan\n",
      "Calisan.__module__:__main__\n",
      "Calisan.__bases__:(<class 'object'>,)\n",
      "Calisan.__dict__:{'__module__': '__main__', '__doc__': 'Çalışanlar hakkında bilgi verir', 'calisanSayisi': 3, '__init__': <function Calisan.__init__ at 0x000002749963EB60>, 'calisan_sayisini_yaz': <function Calisan.calisan_sayisini_yaz at 0x000002749963E840>, 'calisan_bilgisi_ver': <function Calisan.calisan_bilgisi_ver at 0x000002749963E980>, '__dict__': <attribute '__dict__' of 'Calisan' objects>, '__weakref__': <attribute '__weakref__' of 'Calisan' objects>}\n"
     ]
    }
   ],
   "source": [
    "print (\"Calisan.__doc__:\"+   str(Calisan.__doc__)) # built-in özellikler\n",
    "print (\"Calisan.__name__:\" +  str(Calisan.__name__))\n",
    "print (\"Calisan.__module__:\"+ str( Calisan.__module__))\n",
    "print (\"Calisan.__bases__:\"+  str(Calisan.__bases__))\n",
    "print (\"Calisan.__dict__:\"+  str(Calisan.__dict__))"
   ]
  },
  {
   "cell_type": "code",
   "execution_count": 87,
   "metadata": {},
   "outputs": [
    {
     "data": {
      "text/plain": [
       "5"
      ]
     },
     "execution_count": 87,
     "metadata": {},
     "output_type": "execute_result"
    }
   ],
   "source": [
    "Calisan.calisanSayisi"
   ]
  },
  {
   "cell_type": "code",
   "execution_count": 89,
   "metadata": {},
   "outputs": [
    {
     "name": "stdout",
     "output_type": "stream",
     "text": [
      "1\n",
      "2\n"
     ]
    }
   ],
   "source": [
    "# Encapsulation (gizleme)\n",
    "\n",
    "class Sayıcı:\n",
    "    __gizli_sayi = 0 # başında 2 altçizgi yazılır, dışarıdan doğrudan erişilemez\n",
    "    \n",
    "    \n",
    "    def artir(self):\n",
    "        self.__gizli_sayi += 1\n",
    "        print (self.__gizli_sayi)\n",
    "\n",
    "sayac = Sayıcı()\n",
    "sayac.artir()\n",
    "sayac.artir()"
   ]
  },
  {
   "cell_type": "code",
   "execution_count": 91,
   "metadata": {},
   "outputs": [
    {
     "ename": "AttributeError",
     "evalue": "'Sayıcı' object has no attribute 'gizli_sayi'",
     "output_type": "error",
     "traceback": [
      "\u001b[0;31m---------------------------------------------------------------------------\u001b[0m",
      "\u001b[0;31mAttributeError\u001b[0m                            Traceback (most recent call last)",
      "Cell \u001b[0;32mIn[91], line 1\u001b[0m\n\u001b[0;32m----> 1\u001b[0m \u001b[38;5;28mprint\u001b[39m(sayac\u001b[38;5;241m.\u001b[39mgizli_sayi)\n\u001b[1;32m      2\u001b[0m \u001b[38;5;28mprint\u001b[39m(Sayıcı\u001b[38;5;241m.\u001b[39mgizli_sayi)\n",
      "\u001b[0;31mAttributeError\u001b[0m: 'Sayıcı' object has no attribute 'gizli_sayi'"
     ]
    }
   ],
   "source": [
    "print(sayac.gizli_sayi)\n",
    "print(Sayıcı.gizli_sayi)"
   ]
  },
  {
   "cell_type": "code",
   "execution_count": 14,
   "metadata": {},
   "outputs": [],
   "source": [
    "class Kopek:\n",
    "    tur=\"memeli\"\n",
    "    def __init__(self, isim, yas):\n",
    "        self.isim=isim\n",
    "        self.yas=yas\n",
    "    def havla(self):\n",
    "        print(\"Hav hav\")\n",
    "    def kendini_tanit(self):\n",
    "        print(\"Benim adım \" + self.isim)\n",
    "        print(\"Benim yaşım \" + str(self.yas))\n",
    "    def yaslandir(self):\n",
    "        self.yas+=1\n",
    "    def arkadas_et(self, diger):\n",
    "        self.arkadas=diger\n",
    "        diger.arkadas=self"
   ]
  },
  {
   "cell_type": "code",
   "execution_count": 97,
   "metadata": {},
   "outputs": [
    {
     "name": "stdout",
     "output_type": "stream",
     "text": [
      "4\n",
      "Bittin sen\n",
      "Benim adım Pamuk\n",
      "Benim yaşım 4\n",
      "Ben bir pitbulum\n"
     ]
    }
   ],
   "source": [
    "# inheritance kalıtım\n",
    "\n",
    "class Pitbul(Kopek):\n",
    "    def saldir(self):\n",
    "        print(\"Bittin sen\")\n",
    "    def kendini_tanit(self):\n",
    "        print(\"Benim adım \" + self.isim)\n",
    "        print(\"Benim yaşım \" + str(self.yas))\n",
    "        print(\"Ben bir pitbulum\")\n",
    "        \n",
    "kopegim=Pitbul(\"Pamuk\", 3)\n",
    "kopegim.yaslandir()\n",
    "print(kopegim.yas)\n",
    "kopegim.saldir()\n",
    "kopegim.kendini_tanit()"
   ]
  },
  {
   "cell_type": "code",
   "execution_count": null,
   "metadata": {},
   "outputs": [],
   "source": []
  }
 ],
 "metadata": {
  "kernelspec": {
   "display_name": "Python 3",
   "language": "python",
   "name": "python3"
  },
  "language_info": {
   "codemirror_mode": {
    "name": "ipython",
    "version": 3
   },
   "file_extension": ".py",
   "mimetype": "text/x-python",
   "name": "python",
   "nbconvert_exporter": "python",
   "pygments_lexer": "ipython3",
   "version": "3.12.2"
  }
 },
 "nbformat": 4,
 "nbformat_minor": 4
}
