{
 "cells": [
  {
   "cell_type": "code",
   "execution_count": 1,
   "metadata": {
    "scrolled": true,
    "trusted": true
   },
   "outputs": [
    {
     "name": "stdout",
     "output_type": "stream",
     "text": [
      "'Programlama Temelleri' başlıklı kitap, Olvanot Jean Claude Rakotonirina tarafından yazılmıştır. İlk olarak 2005 yılında yayımlanmış olan bu kitap, toplam 92 sayfadan oluşmaktadır. Şu an için bu kitap, Türkçe, İngilizce, Fransızca dillerinde bulunmaktadır.\n",
      "Başlık: Programlama Temelleri\n",
      "Yazar: Olvanot Jean Claude Rakotonirina\n",
      "Yayın Yılı: 2005\n",
      "Sayfa Sayısı: 92\n",
      "Diller: Türkçe, İngilizce, Fransızca\n"
     ]
    }
   ],
   "source": [
    "from datetime import datetime\n",
    "\n",
    "\"\"\"\n",
    "1. Python\tSınıfı\tOluşturma\n",
    "\"\"\"\n",
    "\n",
    "class Kitap:\n",
    "    def __init__(self, baslik: str, yazar: str, yayin_yili: int, sayfa_sayisi: int, diller: list[str]):\n",
    "        self.baslik = baslik\n",
    "        self.yazar = yazar\n",
    "        self.yayin_yili = yayin_yili\n",
    "        self.sayfa_sayisi = sayfa_sayisi\n",
    "        self.diller = diller\n",
    "\n",
    "    def dil_ekle(self, dil: str):\n",
    "        self.diller.append(dil) #Yeni bir dil ekler.\n",
    "\n",
    "    def kitap_yasi_hesapla(self) -> int:\n",
    "        return datetime.now().year - self.yayin_yili #Kitabın yaşını yayın yılına göre hesaplaması\n",
    "\n",
    "    def kitap_goruntule(self, paragraf: bool = False):\n",
    "        if paragraf:\n",
    "            print(\n",
    "                f\"'{self.baslik}' başlıklı kitap, {self.yazar} tarafından yazılmıştır. \"\n",
    "                f\"İlk olarak {self.yayin_yili} yılında yayımlanmış olan bu kitap, toplam {self.sayfa_sayisi} sayfadan oluşmaktadır. \"\n",
    "                f\"Şu an için bu kitap, {', '.join(self.diller)} dillerinde bulunmaktadır.\"\n",
    "            )\n",
    "        else:\n",
    "            # Satır bazlı görüntüleme\n",
    "            print(f\"Başlık: {self.baslik}\")\n",
    "            print(f\"Yazar: {self.yazar}\")\n",
    "            print(f\"Yayın Yılı: {self.yayin_yili}\")\n",
    "            print(f\"Sayfa Sayısı: {self.sayfa_sayisi}\")\n",
    "            print(f\"Diller: {', '.join(self.diller)}\")\n",
    "\n",
    "kitap = Kitap(\n",
    "   baslik=\"Programlama Temelleri\",\n",
    "   yazar=\"Olvanot Jean Claude Rakotonirina\",\n",
    "   yayin_yili=2005,\n",
    "   sayfa_sayisi=92,\n",
    "   diller=[\"Türkçe\", \"İngilizce\"]\n",
    ")\n",
    "\n",
    "kitap.dil_ekle(\"Fransızca\")\n",
    "kitap.kitap_goruntule(paragraf=True)\n",
    "kitap.kitap_goruntule(paragraf=False)"
   ]
  },
  {
   "cell_type": "code",
   "execution_count": 2,
   "metadata": {
    "trusted": true
   },
   "outputs": [],
   "source": [
    "import numpy as np"
   ]
  },
  {
   "cell_type": "code",
   "execution_count": 3,
   "metadata": {
    "trusted": true
   },
   "outputs": [],
   "source": [
    "matrix = np.random.randint(0, 100, (10, 10)) # 10x10 boyutunda rastgele tam sayı"
   ]
  },
  {
   "cell_type": "code",
   "execution_count": 4,
   "metadata": {
    "trusted": true
   },
   "outputs": [
    {
     "name": "stdout",
     "output_type": "stream",
     "text": [
      "[[43 87 43 72 26  0 70 81 43 38]\n",
      " [16 21 23 70 64 57 55 18 62 17]\n",
      " [45 20 96 62  6 48 59  2 11  6]\n",
      " [ 1 63 31 43 42 83 14 99 31  6]\n",
      " [89 56 56 55 32 30 47 38 70 49]\n",
      " [63 25 17 91 12 88 13 52 41 88]\n",
      " [81 16 13  8 90 80 76 75 70 89]\n",
      " [14 39 78 26 47 19 74 68 20 35]\n",
      " [ 0 29 89 99 25 93 61 42 26 37]\n",
      " [61 58 22 42 56 37 33  3 95 16]]\n",
      "Min/Max Değerleri ve İndeksleri\n",
      "{0: [(np.int32(0), np.int64(5)), (np.int32(87), np.int64(1))], 1: [(np.int32(16), np.int64(0)), (np.int32(70), np.int64(3))], 2: [(np.int32(2), np.int64(7)), (np.int32(96), np.int64(2))], 3: [(np.int32(1), np.int64(0)), (np.int32(99), np.int64(7))], 4: [(np.int32(30), np.int64(5)), (np.int32(89), np.int64(0))], 5: [(np.int32(12), np.int64(4)), (np.int32(91), np.int64(3))], 6: [(np.int32(8), np.int64(3)), (np.int32(90), np.int64(4))], 7: [(np.int32(14), np.int64(0)), (np.int32(78), np.int64(2))], 8: [(np.int32(0), np.int64(0)), (np.int32(99), np.int64(3))], 9: [(np.int32(3), np.int64(7)), (np.int32(95), np.int64(8))]}\n"
     ]
    }
   ],
   "source": [
    "\"\"\"\n",
    "2. Gelişmiş NumPy İşlemleri\n",
    "\"\"\"\n",
    "row_dict = dict()\n",
    "\n",
    "for i in range(10):\n",
    "    min_value = np.min(matrix[i])\n",
    "    max_value = np.max(matrix[i])\n",
    "    \n",
    "    min_index = np.argmin(matrix[i]) \n",
    "    max_index = np.argmax(matrix[i])\n",
    "    \n",
    "    # Satırların min, max değerleri ve indekslerini sözlükte tutulması\n",
    "    row_dict[i] = [(min_value, min_index), (max_value, max_index)]\n",
    "    \n",
    "print(matrix)\n",
    "print(\"Min/Max Değerleri ve İndeksleri\")\n",
    "print(row_dict)"
   ]
  },
  {
   "cell_type": "code",
   "execution_count": null,
   "metadata": {
    "trusted": true
   },
   "outputs": [],
   "source": []
  },
  {
   "cell_type": "code",
   "execution_count": 5,
   "metadata": {
    "trusted": true
   },
   "outputs": [
    {
     "name": "stdout",
     "output_type": "stream",
     "text": [
      "[[43 87 43 72 26  0 70 81 43 38]\n",
      " [16 21 23 70 64 57 55 18 62 17]\n",
      " [45 20 96 62  6 48 59  2 11  6]\n",
      " [ 1 63 31 43 42 83 14 99 31  6]\n",
      " [89 56 56 55 32 30 47 38 70 49]\n",
      " [63 25 17 91 12 88 13 52 41 88]\n",
      " [81 16 13  8 90 80 76 75 70 89]\n",
      " [14 39 78 26 47 19 74 68 20 35]\n",
      " [ 0 29 89 99 25 93 61 42 26 37]\n",
      " [61 58 22 42 56 37 33  3 95 16]]\n",
      "Her sütunun ortalama, medyan ve standart sapma değerleri:\n",
      "{0: {'mean': np.float64(41.3), 'median': np.float64(44.0), 'standartDeviation': np.float64(30.728000260348868)}, 1: {'mean': np.float64(41.4), 'median': np.float64(34.0), 'standartDeviation': np.float64(22.32129028528593)}, 2: {'mean': np.float64(46.8), 'median': np.float64(37.0), 'standartDeviation': np.float64(29.556048450359526)}, 3: {'mean': np.float64(56.8), 'median': np.float64(58.5), 'standartDeviation': np.float64(26.693819509392057)}, 4: {'mean': np.float64(40.0), 'median': np.float64(37.0), 'standartDeviation': np.float64(24.1039415863879)}, 5: {'mean': np.float64(53.5), 'median': np.float64(52.5), 'standartDeviation': np.float64(30.401480227120523)}, 6: {'mean': np.float64(50.2), 'median': np.float64(57.0), 'standartDeviation': np.float64(22.00363606316011)}, 7: {'mean': np.float64(47.8), 'median': np.float64(47.0), 'standartDeviation': np.float64(31.641112496244503)}, 8: {'mean': np.float64(46.9), 'median': np.float64(42.0), 'standartDeviation': np.float64(25.220824728783157)}, 9: {'mean': np.float64(38.1), 'median': np.float64(36.0), 'standartDeviation': np.float64(28.644196619908893)}}\n"
     ]
    }
   ],
   "source": [
    "# Her sütunun ortalama, medyan ve standart sapma \n",
    "col_dict = dict()\n",
    "for col_index in range(10):\n",
    "    column_mean = np.mean(matrix[:, col_index])\n",
    "    column_median = np.median(matrix[:, col_index])\n",
    "    column_standart_deviation = np.std(matrix[:, col_index]) \n",
    "    \n",
    "    col_dict[col_index] = {\n",
    "        'mean': column_mean,\n",
    "        'median': column_median,\n",
    "        'standartDeviation': column_standart_deviation \n",
    "    }\n",
    "print(matrix)\n",
    "print(\"Her sütunun ortalama, medyan ve standart sapma değerleri:\")\n",
    "print(col_dict)\n"
   ]
  },
  {
   "cell_type": "code",
   "execution_count": null,
   "metadata": {
    "trusted": true
   },
   "outputs": [],
   "source": []
  },
  {
   "cell_type": "code",
   "execution_count": 6,
   "metadata": {
    "trusted": true
   },
   "outputs": [
    {
     "name": "stdout",
     "output_type": "stream",
     "text": [
      "[[20 47]\n",
      " [19 40]]\n",
      "Sonuç: Matris A x Matris B çarpımındaki her satırın en büyük değerleri:\n",
      "[47 40]\n"
     ]
    }
   ],
   "source": [
    "\"\"\"\n",
    "3. Matris\tÇarpımı\n",
    "\"\"\"\n",
    "\n",
    "def max_in_rows_of_product(matrix_A, matrix_B):\n",
    "    matrix_AxB = np.dot(matrix_A, matrix_B)\n",
    "    max_values_in_rows = np.max(matrix_AxB, axis=1)    \n",
    "    print(matrix_AxB)\n",
    "    return max_values_in_rows\n",
    "\n",
    "matrix_A = np.array([[2, 3, 4], [1, 0, 6]])\n",
    "matrix_B = np.array([[1, 4], [2, 5], [3, 6]])\n",
    "\n",
    "max_values = max_in_rows_of_product(matrix_A, matrix_B)\n",
    "\n",
    "print(\"Sonuç: Matris A x Matris B çarpımındaki her satırın en büyük değerleri:\")\n",
    "\n",
    "print(max_values)\n"
   ]
  },
  {
   "cell_type": "code",
   "execution_count": null,
   "metadata": {
    "trusted": true
   },
   "outputs": [],
   "source": []
  },
  {
   "cell_type": "code",
   "execution_count": 7,
   "metadata": {
    "trusted": true
   },
   "outputs": [
    {
     "name": "stdout",
     "output_type": "stream",
     "text": [
      "10! = 3628800\n",
      "10! = 3628800\n"
     ]
    }
   ],
   "source": [
    "\"\"\"\n",
    "4. Faktöriyel\tHesaplama\n",
    "\"\"\"\n",
    "def factorial_with_loop(n):\n",
    "    if n < 0:\n",
    "        return \"Faktöriyel yalnızca pozitif tam sayı olmalıdır!\"\n",
    "    result = 1\n",
    "    for i in range(1, n + 1):\n",
    "        result *= i\n",
    "    return result\n",
    "\n",
    "def factorial(n):\n",
    "    if n < 0:\n",
    "        return \"Faktöriyel yalnızca pozitif tam sayı olmalıdır!\"\n",
    "    if n == 0 or n == 1:\n",
    "        return 1\n",
    "    return n * factorial(n - 1)\n",
    "\n",
    "number=10\n",
    "print(f\"{number}! = {factorial_with_loop(number)}\")\n",
    "print(f\"{number}! = {factorial(number)}\")\n"
   ]
  },
  {
   "cell_type": "code",
   "execution_count": null,
   "metadata": {
    "trusted": true
   },
   "outputs": [],
   "source": []
  },
  {
   "cell_type": "code",
   "execution_count": 8,
   "metadata": {
    "trusted": true
   },
   "outputs": [
    {
     "name": "stdout",
     "output_type": "stream",
     "text": [
      "***Rasgele dizi:***\n",
      "[[ 3 13 19 18]\n",
      " [15 13  6  1]\n",
      " [ 4 14  3 11]\n",
      " [ 9  8 10 16]\n",
      " [ 3 16  8  8]]\n",
      "***Satır toplamları***\n",
      "[53 35 32 43 35]\n",
      "***Satır ortalamaları***\n",
      "[13.25  8.75  8.   10.75  8.75]\n",
      "Satırların Toplam ve Ortalamaları:\n",
      " [[53.   13.25]\n",
      " [35.    8.75]\n",
      " [32.    8.  ]\n",
      " [43.   10.75]\n",
      " [35.    8.75]]\n",
      "Sütunların Maksimum ve Minimum Değerleri:\n",
      " [[15  3]\n",
      " [16  8]\n",
      " [19  3]\n",
      " [18  1]]\n",
      "Çift matris:\n",
      " [[ 4 14 20 18]\n",
      " [16 14  6  2]\n",
      " [ 4 14  4 12]\n",
      " [10  8 10 16]\n",
      " [ 4 16  8  8]]\n"
     ]
    }
   ],
   "source": [
    "\"\"\"\n",
    "5. Rasgele\tDizi İşlemleri\n",
    "Yaklaşım: Tek Sayılara 1 Ekleme\n",
    "Bu yöntemde, tek sayılara 1 eklenerek çift yapılır, çift sayılar ise olduğu gibi bırakılır\n",
    "\n",
    "Eğer random_integers = [3, 4, 7, 8] ise:\n",
    "random_integers % 2 → [1, 0, 1, 0]\n",
    "(3 ve 7 için kalan 1, 4 ve 8 için 0.)\n",
    "random_integers + (random_integers % 2) → [4, 4, 8, 8]\n",
    "\"\"\"\n",
    "random_integers = np.random.randint(1, 21, (5, 4))\n",
    "print(\"***Rasgele dizi:***\")\n",
    "print(random_integers)\n",
    "row_sums = np.sum(random_integers, axis=1)  \n",
    "row_means = np.mean(random_integers, axis=1) \n",
    "row_stats = np.column_stack((row_sums, row_means))  # we can use  np.vstack((row_sums, row_means)).T and Transposing\n",
    "\n",
    "print(\"***Satır toplamları***\")\n",
    "print(row_sums)\n",
    "print(\"***Satır ortalamaları***\")\n",
    "print(row_means)\n",
    "# print(\"******\")\n",
    "print(\"Satırların Toplam ve Ortalamaları:\\n\", row_stats)\n",
    "\n",
    "column_max = np.max(random_integers, axis=0) \n",
    "column_min = np.min(random_integers, axis=0)\n",
    "column_max_min = np.column_stack((column_max, column_min))  # Yeni bir dizi oluştur\n",
    "print(\"Sütunların Maksimum ve Minimum Değerleri:\\n\", column_max_min)\n",
    "\n",
    "even_matrix = random_integers + (random_integers % 2)\n",
    "print(\"Çift matris:\\n\", even_matrix)\n"
   ]
  },
  {
   "cell_type": "code",
   "execution_count": null,
   "metadata": {
    "trusted": true
   },
   "outputs": [],
   "source": []
  },
  {
   "cell_type": "code",
   "execution_count": 9,
   "metadata": {
    "trusted": true
   },
   "outputs": [
    {
     "name": "stdout",
     "output_type": "stream",
     "text": [
      "Orijinal Dizi: [[ 3 13 19 18]\n",
      " [15 13  6  1]\n",
      " [ 4 14  3 11]\n",
      " [ 9  8 10 16]\n",
      " [ 3 16  8  8]]\n",
      "En Küçük Değer: 1\n",
      "En Büyük Değer: 19\n",
      "Medyan Değer: 9.5\n",
      "Toplam: 198\n",
      "Ortalama: 9.9\n",
      "Varyans: 28.490000000000002\n",
      "Çift Sayılar: [18  6  4 14  8 10 16 16  8  8], Sayısı: 10, Toplamı: 108\n",
      "5'in Katları: [15 10], Sayısı: 2, Toplamı: 25\n",
      "Büyükten Küçüğe Sıralı Dizi: [[ 3  8  8 16]\n",
      " [ 8  9 10 16]\n",
      " [ 3  4 11 14]\n",
      " [ 1  6 13 15]\n",
      " [ 3 13 18 19]]\n",
      "Ortalamanın Üzerindeki Elemanlar: [13 19 18 15 13 14 11 10 16 16]\n",
      "Küp Alınmış Dizi: [[  27 2197 6859 5832]\n",
      " [3375 2197  216    1]\n",
      " [  64 2744   27 1331]\n",
      " [ 729  512 1000 4096]\n",
      " [  27 4096  512  512]]\n",
      "Yeniden Şekillendirilmiş (4x4) Dizi:\n",
      "[[ 3 13 19 18  3 13 19 18  3 13 19 18  3 13 19 18]\n",
      " [15 13  6  1 15 13  6  1 15 13  6  1 15 13  6  1]\n",
      " [ 4 14  3 11  4 14  3 11  4 14  3 11  4 14  3 11]\n",
      " [ 9  8 10 16  9  8 10 16  9  8 10 16  9  8 10 16]\n",
      " [ 3 16  8  8  3 16  8  8  3 16  8  8  3 16  8  8]\n",
      " [ 3 13 19 18  3 13 19 18  3 13 19 18  3 13 19 18]\n",
      " [15 13  6  1 15 13  6  1 15 13  6  1 15 13  6  1]\n",
      " [ 4 14  3 11  4 14  3 11  4 14  3 11  4 14  3 11]\n",
      " [ 9  8 10 16  9  8 10 16  9  8 10 16  9  8 10 16]\n",
      " [ 3 16  8  8  3 16  8  8  3 16  8  8  3 16  8  8]\n",
      " [ 3 13 19 18  3 13 19 18  3 13 19 18  3 13 19 18]\n",
      " [15 13  6  1 15 13  6  1 15 13  6  1 15 13  6  1]\n",
      " [ 4 14  3 11  4 14  3 11  4 14  3 11  4 14  3 11]\n",
      " [ 9  8 10 16  9  8 10 16  9  8 10 16  9  8 10 16]\n",
      " [ 3 16  8  8  3 16  8  8  3 16  8  8  3 16  8  8]\n",
      " [ 3 13 19 18  3 13 19 18  3 13 19 18  3 13 19 18]\n",
      " [15 13  6  1 15 13  6  1 15 13  6  1 15 13  6  1]\n",
      " [ 4 14  3 11  4 14  3 11  4 14  3 11  4 14  3 11]\n",
      " [ 9  8 10 16  9  8 10 16  9  8 10 16  9  8 10 16]\n",
      " [ 3 16  8  8  3 16  8  8  3 16  8  8  3 16  8  8]]\n"
     ]
    }
   ],
   "source": [
    "\"\"\"\n",
    "Büyük\tNumPy\tDizisi\tAnalizi\n",
    "\"\"\"\n",
    "#Dizideki en küçük, en büyük ve medyan değeri\n",
    "min_value = np.min(random_integers) \n",
    "max_value = np.max(random_integers) \n",
    "median_value = np.median(random_integers)  \n",
    "\n",
    "# Elemanların toplamını, ortalamasını ve varyansı\n",
    "sum_of_elements = np.sum(random_integers) \n",
    "mean_value = np.mean(random_integers) \n",
    "variance_value = np.var(random_integers) \n",
    "\n",
    "even_numbers = random_integers[random_integers % 2 == 0]  # Çift sayılar\n",
    "multiples_of_five = random_integers[random_integers % 5 == 0]  # 5'in katları\n",
    "\n",
    "even_count = len(even_numbers) \n",
    "even_sum = np.sum(even_numbers)  # Çift sayıların toplamı\n",
    "multiples_of_five_count = len(multiples_of_five)  \n",
    "multiples_of_five_sum = np.sum(multiples_of_five)  \n",
    "\n",
    "sorted_integers = np.sort(random_integers)[::-1]  # Büyükten küçüğe sıralı dizi\n",
    "\n",
    "above_mean_integers = random_integers[random_integers > mean_value]  # Ortalama üzeri elemanlar\n",
    "\n",
    "cubed_array = random_integers ** 3  # Her elemanın küpü\n",
    "\n",
    "reshaped_array = np.tile(random_integers, (4, 4))  # 4 kez yan yana, 4 kez alt alta\n",
    "\n",
    "# Sonuçların yazdırılması\n",
    "print(f\"Orijinal Dizi: {random_integers}\")\n",
    "print(f\"En Küçük Değer: {min_value}\")\n",
    "print(f\"En Büyük Değer: {max_value}\")\n",
    "print(f\"Medyan Değer: {median_value}\")\n",
    "print(f\"Toplam: {sum_of_elements}\")\n",
    "print(f\"Ortalama: {mean_value}\")\n",
    "print(f\"Varyans: {variance_value}\")\n",
    "print(f\"Çift Sayılar: {even_numbers}, Sayısı: {even_count}, Toplamı: {even_sum}\")\n",
    "print(f\"5'in Katları: {multiples_of_five}, Sayısı: {multiples_of_five_count}, Toplamı: {multiples_of_five_sum}\")\n",
    "print(f\"Büyükten Küçüğe Sıralı Dizi: {sorted_integers}\")\n",
    "print(f\"Ortalamanın Üzerindeki Elemanlar: {above_mean_integers}\")\n",
    "print(f\"Küp Alınmış Dizi: {cubed_array}\")\n",
    "print(f\"Yeniden Şekillendirilmiş (4x4) Dizi:\\n{reshaped_array}\")\n"
   ]
  },
  {
   "cell_type": "code",
   "execution_count": null,
   "metadata": {
    "trusted": true
   },
   "outputs": [],
   "source": []
  },
  {
   "cell_type": "code",
   "execution_count": null,
   "metadata": {
    "trusted": true
   },
   "outputs": [],
   "source": []
  }
 ],
 "metadata": {
  "kernelspec": {
   "display_name": "Python 3",
   "language": "python",
   "name": "python3"
  },
  "language_info": {
   "codemirror_mode": {
    "name": "ipython",
    "version": 3
   },
   "file_extension": ".py",
   "mimetype": "text/x-python",
   "name": "python",
   "nbconvert_exporter": "python",
   "pygments_lexer": "ipython3",
   "version": "3.12.2"
  }
 },
 "nbformat": 4,
 "nbformat_minor": 4
}
