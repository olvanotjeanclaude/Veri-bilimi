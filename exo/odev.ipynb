{
 "cells": [
  {
   "cell_type": "code",
   "execution_count": 1,
   "metadata": {
    "trusted": true
   },
   "outputs": [],
   "source": [
    "import numpy as np\n",
    "from datetime import datetime"
   ]
  },
  {
   "cell_type": "code",
   "execution_count": null,
   "metadata": {
    "trusted": true
   },
   "outputs": [],
   "source": []
  },
  {
   "cell_type": "code",
   "execution_count": 2,
   "metadata": {
    "scrolled": true,
    "trusted": true
   },
   "outputs": [
    {
     "name": "stdout",
     "output_type": "stream",
     "text": [
      "'Programlama Temelleri' başlıklı kitap, Olvanot Jean Claude Rakotonirina tarafından yazılmıştır. İlk olarak 2005 yılında yayımlanmış olan bu kitap, toplam 92 sayfadan oluşmaktadır. Şu an için bu kitap, Türkçe, İngilizce, Fransızca dillerinde bulunmaktadır.\n",
      "****\n",
      "Başlık: Programlama Temelleri\n",
      "Yazar: Olvanot Jean Claude Rakotonirina\n",
      "Yayın Yılı: 2005\n",
      "Sayfa Sayısı: 92\n",
      "Diller: Türkçe, İngilizce, Fransızca\n"
     ]
    }
   ],
   "source": [
    "\"\"\"\n",
    "1. Python\tSınıfı\tOluşturma\n",
    "\"\"\"\n",
    "class Kitap:\n",
    "    def __init__(self, baslik: str, yazar: str, yayin_yili: int, sayfa_sayisi: int, diller: list[str]):\n",
    "        self.baslik = baslik\n",
    "        self.yazar = yazar\n",
    "        self.yayin_yili = yayin_yili\n",
    "        self.sayfa_sayisi = sayfa_sayisi\n",
    "        self.diller = diller\n",
    "\n",
    "    def dil_ekle(self, dil: str):\n",
    "        self.diller.append(dil) #Yeni bir dil eklemek için\n",
    "\n",
    "    def kitap_yasi_hesapla(self) -> int:\n",
    "        return datetime.now().year - self.yayin_yili #Kitabın yaşını yayın yılına göre hesaplaması\n",
    "\n",
    "    def kitap_goruntule(self, paragraf: bool = False):\n",
    "        if paragraf:\n",
    "            print(\n",
    "                f\"'{self.baslik}' başlıklı kitap, {self.yazar} tarafından yazılmıştır. \"\n",
    "                f\"İlk olarak {self.yayin_yili} yılında yayımlanmış olan bu kitap, toplam {self.sayfa_sayisi} sayfadan oluşmaktadır. \"\n",
    "                f\"Şu an için bu kitap, {', '.join(self.diller)} dillerinde bulunmaktadır.\"\n",
    "            )\n",
    "        else:\n",
    "            # Satır bazlı görüntüleme\n",
    "            print(f\"Başlık: {self.baslik}\")\n",
    "            print(f\"Yazar: {self.yazar}\")\n",
    "            print(f\"Yayın Yılı: {self.yayin_yili}\")\n",
    "            print(f\"Sayfa Sayısı: {self.sayfa_sayisi}\")\n",
    "            print(f\"Diller: {', '.join(self.diller)}\")\n",
    "\n",
    "kitap = Kitap(\n",
    "   baslik=\"Programlama Temelleri\",\n",
    "   yazar=\"Olvanot Jean Claude Rakotonirina\",\n",
    "   yayin_yili=2005,\n",
    "   sayfa_sayisi=92,\n",
    "   diller=[\"Türkçe\", \"İngilizce\"]\n",
    ")\n",
    "\n",
    "kitap.dil_ekle(\"Fransızca\")\n",
    "kitap.kitap_goruntule(paragraf=True)\n",
    "print(\"****\")\n",
    "kitap.kitap_goruntule(paragraf=False)"
   ]
  },
  {
   "cell_type": "code",
   "execution_count": null,
   "metadata": {
    "trusted": true
   },
   "outputs": [],
   "source": []
  },
  {
   "cell_type": "code",
   "execution_count": 3,
   "metadata": {
    "trusted": true
   },
   "outputs": [
    {
     "name": "stdout",
     "output_type": "stream",
     "text": [
      "[[62 63 11 22 18 69 40 74 64 62]\n",
      " [75  6 86 11 13 29 77 65 40 64]\n",
      " [88 19 31 45 31 87 84 39  8 63]\n",
      " [21 65 35 50 33 95 85 21 31 80]\n",
      " [20 84 76  0 69 79 16 85 11 46]\n",
      " [ 8 41  6 61 97  7 46 93 11 28]\n",
      " [ 3 94  5 60 64 18 48 94 38 72]\n",
      " [38 79 34 31 29 14 37 11 60 72]\n",
      " [34 35 80 74 75 31  1 77 12 89]\n",
      " [66 55  0 10 45 50  9  5 38 88]]\n",
      "Min/Max Değerleri ve İndeksleri\n",
      "{0: [(np.int32(11), np.int64(2)), (np.int32(74), np.int64(7))], 1: [(np.int32(6), np.int64(1)), (np.int32(86), np.int64(2))], 2: [(np.int32(8), np.int64(8)), (np.int32(88), np.int64(0))], 3: [(np.int32(21), np.int64(0)), (np.int32(95), np.int64(5))], 4: [(np.int32(0), np.int64(3)), (np.int32(85), np.int64(7))], 5: [(np.int32(6), np.int64(2)), (np.int32(97), np.int64(4))], 6: [(np.int32(3), np.int64(0)), (np.int32(94), np.int64(1))], 7: [(np.int32(11), np.int64(7)), (np.int32(79), np.int64(1))], 8: [(np.int32(1), np.int64(6)), (np.int32(89), np.int64(9))], 9: [(np.int32(0), np.int64(2)), (np.int32(88), np.int64(9))]}\n"
     ]
    }
   ],
   "source": [
    "\"\"\"\n",
    "2. Gelişmiş NumPy İşlemleri\n",
    "\"\"\"\n",
    "\n",
    "#Min/Max Değerleri ve İndeksleri\n",
    "row_dict = dict()\n",
    "matrix = np.random.randint(0, 100, (10, 10)) # 10x10 boyutunda rastgele tam sayı\n",
    "for i in range(10):\n",
    "    min_value = np.min(matrix[i])\n",
    "    max_value = np.max(matrix[i])\n",
    "    \n",
    "    min_index = np.argmin(matrix[i]) \n",
    "    max_index = np.argmax(matrix[i])\n",
    "    \n",
    "    # Satırların min, max değerleri ve indekslerini sözlükte tutulması\n",
    "    row_dict[i] = [(min_value, min_index), (max_value, max_index)]\n",
    "    \n",
    "print(matrix)\n",
    "print(\"Min/Max Değerleri ve İndeksleri\")\n",
    "print(row_dict)"
   ]
  },
  {
   "cell_type": "code",
   "execution_count": null,
   "metadata": {
    "trusted": true
   },
   "outputs": [],
   "source": []
  },
  {
   "cell_type": "code",
   "execution_count": 4,
   "metadata": {
    "trusted": true
   },
   "outputs": [
    {
     "name": "stdout",
     "output_type": "stream",
     "text": [
      "[[16 29 77 14 97 64  0 66 49 21]\n",
      " [41 42 13 76  5  7 60 81  3 62]\n",
      " [44  2 59 31 65 79 72 92 96 27]\n",
      " [10 48 43 73 69 81 39  2 84 51]\n",
      " [59 43  2 97 78 55 91 22 44 90]\n",
      " [96 86  6 29  1 96 35 98 22 94]\n",
      " [79  2 38 64 12 41 34 28 36 80]\n",
      " [29 56 75 77 84 87 46 40 18 98]\n",
      " [20 88 64 17 41 38 74 86 56 95]\n",
      " [37 52 51  2  4 35 10 45 23 77]]\n",
      "Her sütunun ortalama, medyan ve standart sapma değerleri:\n",
      "{0: {'mean': np.float64(43.1), 'median': np.float64(39.0), 'standart_deviation': np.float64(26.3531781764553)}, 1: {'mean': np.float64(44.8), 'median': np.float64(45.5), 'standart_deviation': np.float64(27.70487321754063)}, 2: {'mean': np.float64(42.8), 'median': np.float64(47.0), 'standart_deviation': np.float64(26.297528400973352)}, 3: {'mean': np.float64(48.0), 'median': np.float64(47.5), 'standart_deviation': np.float64(31.28897569432403)}, 4: {'mean': np.float64(45.6), 'median': np.float64(53.0), 'standart_deviation': np.float64(35.50830888679437)}, 5: {'mean': np.float64(58.3), 'median': np.float64(59.5), 'standart_deviation': np.float64(26.67976761517986)}, 6: {'mean': np.float64(46.1), 'median': np.float64(42.5), 'standart_deviation': np.float64(27.21562051469707)}, 7: {'mean': np.float64(56.0), 'median': np.float64(55.5), 'standart_deviation': np.float64(31.492856332825703)}, 8: {'mean': np.float64(43.1), 'median': np.float64(40.0), 'standart_deviation': np.float64(27.94798740517821)}, 9: {'mean': np.float64(69.5), 'median': np.float64(78.5), 'standart_deviation': np.float64(26.844925032489847)}}\n"
     ]
    }
   ],
   "source": [
    "# Her sütunun ortalama, medyan ve standart sapma \n",
    "col_dict = dict()\n",
    "\n",
    "matrix = np.random.randint(0, 100, (10, 10)) # 10x10 boyutunda rastgele tam sayı\n",
    "\n",
    "for col_index in range(10):\n",
    "    column_mean = np.mean(matrix[:, col_index])\n",
    "    column_median = np.median(matrix[:, col_index])\n",
    "    column_standart_deviation = np.std(matrix[:, col_index]) \n",
    "    \n",
    "    col_dict[col_index] = {\n",
    "        'mean': column_mean,\n",
    "        'median': column_median,\n",
    "        'standart_deviation': column_standart_deviation \n",
    "    }\n",
    "print(matrix)\n",
    "print(\"Her sütunun ortalama, medyan ve standart sapma değerleri:\")\n",
    "print(col_dict)\n"
   ]
  },
  {
   "cell_type": "code",
   "execution_count": null,
   "metadata": {
    "trusted": true
   },
   "outputs": [],
   "source": []
  },
  {
   "cell_type": "code",
   "execution_count": 5,
   "metadata": {
    "trusted": true
   },
   "outputs": [
    {
     "name": "stdout",
     "output_type": "stream",
     "text": [
      "A X B:\n",
      "[[20 47]\n",
      " [19 40]]\n",
      "Sonuç: Matris A x Matris B çarpımındaki her satırın en büyük değerleri:\n",
      "[47 40]\n"
     ]
    }
   ],
   "source": [
    "\"\"\"\n",
    "3. Matris\tÇarpımı\n",
    "\"\"\"\n",
    "\n",
    "def max_in_rows_of_product(matrix_A, matrix_B):\n",
    "    matrix_AxB = np.dot(matrix_A, matrix_B)\n",
    "    max_values_in_rows = np.max(matrix_AxB, axis=1) \n",
    "    print(\"A X B:\")\n",
    "    print(matrix_AxB)\n",
    "    return max_values_in_rows\n",
    "\n",
    "matrix_A = np.array([[2, 3, 4], [1, 0, 6]])\n",
    "matrix_B = np.array([[1, 4], [2, 5], [3, 6]])\n",
    "\n",
    "max_values = max_in_rows_of_product(matrix_A, matrix_B)\n",
    "\n",
    "print(\"Sonuç: Matris A x Matris B çarpımındaki her satırın en büyük değerleri:\")\n",
    "print(max_values)\n"
   ]
  },
  {
   "cell_type": "code",
   "execution_count": null,
   "metadata": {
    "trusted": true
   },
   "outputs": [],
   "source": []
  },
  {
   "cell_type": "code",
   "execution_count": 6,
   "metadata": {
    "trusted": true
   },
   "outputs": [
    {
     "name": "stdout",
     "output_type": "stream",
     "text": [
      "10! = 3628800\n",
      "10! = 3628800\n"
     ]
    }
   ],
   "source": [
    "\"\"\"\n",
    "4. Faktöriyel\tHesaplama\n",
    "\"\"\"\n",
    "def factorial_with_loop(n):\n",
    "    if n < 0:\n",
    "        return \"Faktöriyel yalnızca pozitif tam sayı olmalıdır!\"\n",
    "    result = 1\n",
    "    for i in range(1, n + 1):\n",
    "        result *= i\n",
    "    return result\n",
    "\n",
    "def factorial(n):\n",
    "    if n < 0:\n",
    "        return \"Faktöriyel yalnızca pozitif tam sayı olmalıdır!\"\n",
    "    if n == 0 or n == 1:\n",
    "        return 1\n",
    "    return n * factorial(n - 1)\n",
    "\n",
    "number=10\n",
    "print(f\"{number}! = {factorial_with_loop(number)}\")\n",
    "print(f\"{number}! = {factorial(number)}\")\n"
   ]
  },
  {
   "cell_type": "code",
   "execution_count": null,
   "metadata": {
    "trusted": true
   },
   "outputs": [],
   "source": []
  },
  {
   "cell_type": "code",
   "execution_count": 7,
   "metadata": {
    "trusted": true
   },
   "outputs": [
    {
     "name": "stdout",
     "output_type": "stream",
     "text": [
      "***Rasgele dizi:***\n",
      "[[16 15 15  8]\n",
      " [10  5 19 11]\n",
      " [ 6  5 10 14]\n",
      " [ 8 14 16  8]\n",
      " [19 12 19  9]]\n",
      "***Satır toplamları***\n",
      "[54 45 35 46 59]\n",
      "***Satır ortalamaları***\n",
      "[13.5  11.25  8.75 11.5  14.75]\n",
      "Satırların Toplam ve Ortalamaları:\n",
      " [[54.   13.5 ]\n",
      " [45.   11.25]\n",
      " [35.    8.75]\n",
      " [46.   11.5 ]\n",
      " [59.   14.75]]\n",
      "Sütunların Maksimum ve Minimum Değerleri:\n",
      " [[19  6]\n",
      " [15  5]\n",
      " [19 10]\n",
      " [14  8]]\n",
      "Çift matris:\n",
      " [[16 16 16  8]\n",
      " [10  6 20 12]\n",
      " [ 6  6 10 14]\n",
      " [ 8 14 16  8]\n",
      " [20 12 20 10]]\n"
     ]
    }
   ],
   "source": [
    "\n",
    "\"\"\"\n",
    "5. Rasgele\tDizi İşlemleri\n",
    "\"\"\"\n",
    "random_integers = np.random.randint(1, 21, (5, 4))\n",
    "print(\"***Rasgele dizi:***\")\n",
    "print(random_integers)\n",
    "row_sums = np.sum(random_integers, axis=1)  \n",
    "row_means = np.mean(random_integers, axis=1) \n",
    "row_stats = np.column_stack((row_sums, row_means))  # we can use  np.vstack((row_sums, row_means)).T and Transposing\n",
    "\n",
    "print(\"***Satır toplamları***\")\n",
    "print(row_sums)\n",
    "print(\"***Satır ortalamaları***\")\n",
    "print(row_means)\n",
    "# print(\"******\")\n",
    "print(\"Satırların Toplam ve Ortalamaları:\\n\", row_stats)\n",
    "\n",
    "column_max = np.max(random_integers, axis=0) \n",
    "column_min = np.min(random_integers, axis=0)\n",
    "column_max_min = np.column_stack((column_max, column_min))  # Yeni bir dizi oluştur\n",
    "print(\"Sütunların Maksimum ve Minimum Değerleri:\\n\", column_max_min)\n",
    "\n",
    "\"\"\"\n",
    "ÇİFT MATRIS İÇİN:\n",
    "Yaklaşım: Tek Sayılara 1 Ekleme\n",
    "Bu yöntemde, tek sayılara 1 eklenerek çift yapılır, çift sayılar ise olduğu gibi bırakılır\n",
    "\n",
    "Eğer random_integers = [3, 4, 7, 8] ise:\n",
    "random_integers % 2 → [1, 0, 1, 0]\n",
    "(3 ve 7 için kalan 1, 4 ve 8 için 0.)\n",
    "random_integers + (random_integers % 2) → [4, 4, 8, 8]\n",
    "\"\"\"\n",
    "even_matrix = random_integers + (random_integers % 2)\n",
    "print(\"Çift matris:\\n\", even_matrix)\n"
   ]
  },
  {
   "cell_type": "code",
   "execution_count": null,
   "metadata": {
    "trusted": true
   },
   "outputs": [],
   "source": []
  },
  {
   "cell_type": "code",
   "execution_count": 8,
   "metadata": {
    "trusted": true
   },
   "outputs": [
    {
     "name": "stdout",
     "output_type": "stream",
     "text": [
      "Orijinal Dizi:\n",
      "[ 12  74  42  98  56  98  72  48  29  70  43  33  87  98   3   1  57  44\n",
      "  66  57  69 100   8  11  12  88  38  89  36  71]\n",
      "En Küçük Değer: 1\n",
      "En Büyük Değer: 100\n",
      "Medyan Değer: 56.5\n",
      "Toplam: 1610\n",
      "Ortalama: 53.666666666666664\n",
      "Varyans: 933.3555555555556\n",
      "Çift Sayılar: [ 12  74  42  98  56  98  72  48  70  98  44  66 100   8  12  88  38  36], Sayısı: 18, Toplamı: 1060\n",
      "5'in Katları: [ 70 100], Sayısı: 2, Toplamı: 170\n",
      "Büyükten Küçüğe Sıralı Dizi:\n",
      "[100  98  98  98  89  88  87  74  72  71  70  69  66  57  57  56  48  44\n",
      "  43  42  38  36  33  29  12  12  11   8   3   1]\n",
      "Ortalamanın Üzerindeki Elemanlar:\n",
      "[ 74  98  56  98  72  70  87  98  57  66  57  69 100  88  89  71]\n",
      "Küp Alınmış Değerler Dizi:\n",
      "[   1728  405224   74088  941192  175616  941192  373248  110592   24389\n",
      "  343000   79507   35937  658503  941192      27       1  185193   85184\n",
      "  287496  185193  328509 1000000     512    1331    1728  681472   54872\n",
      "  704969   46656  357911]\n",
      "Yeniden Şekillendirilmiş (DIZI ELEMANLARINI 4 DEFA YAN YANA 4’ER DEFA ALT ALTA ) Dizi:\n",
      "[[ 12  74  42  98  56  98  72  48  29  70  43  33  87  98   3   1  57  44\n",
      "   66  57  69 100   8  11  12  88  38  89  36  71  12  74  42  98  56  98\n",
      "   72  48  29  70  43  33  87  98   3   1  57  44  66  57  69 100   8  11\n",
      "   12  88  38  89  36  71  12  74  42  98  56  98  72  48  29  70  43  33\n",
      "   87  98   3   1  57  44  66  57  69 100   8  11  12  88  38  89  36  71\n",
      "   12  74  42  98  56  98  72  48  29  70  43  33  87  98   3   1  57  44\n",
      "   66  57  69 100   8  11  12  88  38  89  36  71]\n",
      " [ 12  74  42  98  56  98  72  48  29  70  43  33  87  98   3   1  57  44\n",
      "   66  57  69 100   8  11  12  88  38  89  36  71  12  74  42  98  56  98\n",
      "   72  48  29  70  43  33  87  98   3   1  57  44  66  57  69 100   8  11\n",
      "   12  88  38  89  36  71  12  74  42  98  56  98  72  48  29  70  43  33\n",
      "   87  98   3   1  57  44  66  57  69 100   8  11  12  88  38  89  36  71\n",
      "   12  74  42  98  56  98  72  48  29  70  43  33  87  98   3   1  57  44\n",
      "   66  57  69 100   8  11  12  88  38  89  36  71]\n",
      " [ 12  74  42  98  56  98  72  48  29  70  43  33  87  98   3   1  57  44\n",
      "   66  57  69 100   8  11  12  88  38  89  36  71  12  74  42  98  56  98\n",
      "   72  48  29  70  43  33  87  98   3   1  57  44  66  57  69 100   8  11\n",
      "   12  88  38  89  36  71  12  74  42  98  56  98  72  48  29  70  43  33\n",
      "   87  98   3   1  57  44  66  57  69 100   8  11  12  88  38  89  36  71\n",
      "   12  74  42  98  56  98  72  48  29  70  43  33  87  98   3   1  57  44\n",
      "   66  57  69 100   8  11  12  88  38  89  36  71]\n",
      " [ 12  74  42  98  56  98  72  48  29  70  43  33  87  98   3   1  57  44\n",
      "   66  57  69 100   8  11  12  88  38  89  36  71  12  74  42  98  56  98\n",
      "   72  48  29  70  43  33  87  98   3   1  57  44  66  57  69 100   8  11\n",
      "   12  88  38  89  36  71  12  74  42  98  56  98  72  48  29  70  43  33\n",
      "   87  98   3   1  57  44  66  57  69 100   8  11  12  88  38  89  36  71\n",
      "   12  74  42  98  56  98  72  48  29  70  43  33  87  98   3   1  57  44\n",
      "   66  57  69 100   8  11  12  88  38  89  36  71]]\n"
     ]
    }
   ],
   "source": [
    "\"\"\"\n",
    "6. Büyük NumPy\tDizisi Analizi\n",
    "\"\"\"\n",
    "random_integers = np.random.randint(1, 101, size=30)\n",
    "\n",
    "#DİZİDEKİ EN KÜÇÜK, EN BÜYÜK VE MEDYAN DEĞERİ\n",
    "min_value = np.min(random_integers)  \n",
    "max_value = np.max(random_integers) \n",
    "median_value = np.median(random_integers)\n",
    "\n",
    "#ELEMANLARIN TOPLAMI, ORTALAMASI VE VARYANSI\n",
    "sum_of_elements = np.sum(random_integers) \n",
    "mean_value = np.mean(random_integers) \n",
    "variance_value = np.var(random_integers)  \n",
    "\n",
    "#DİZİDEKİ ÇİFT SAYILARIN VE 5’İN KATI OLAN SAYILARIN SAYISI\n",
    "even_numbers = random_integers[random_integers % 2 == 0]  # Çift sayılar\n",
    "even_count = len(even_numbers)  # Çift sayıların sayısı\n",
    "even_sum = np.sum(even_numbers)  # Çift sayıların toplamı\n",
    "\n",
    "multiples_of_five = random_integers[random_integers % 5 == 0]  # 5'in katları\n",
    "multiples_of_five_count = len(multiples_of_five)  # 5'in katlarının sayısı\n",
    "multiples_of_five_sum = np.sum(multiples_of_five)  # 5'in katlarının toplamı\n",
    "\n",
    "#BÜYÜKTEN KÜÇÜĞE SIRALAMASI\n",
    "sorted_descending = np.sort(random_integers)[::-1] \n",
    "\n",
    "#ORTALAMANIN ÜZERINDE\n",
    "above_mean = random_integers[random_integers > mean_value]\n",
    "\n",
    "#ELEMANLARININ KÜPÜ\n",
    "cubed_values_of_elements = random_integers ** 3 #elemanlarının küpü\n",
    "\n",
    "# DIZI ELEMANLARINI 4 DEFA YAN YANA 4’ER DEFA ALT ALTA YAZDIRARAK DIZIYI 2 BOYUTLU\n",
    "## Tiling the array 4 times in the vertical and 4 times in the horizontal direction \n",
    "reshaped_array = np.tile(random_integers, (4, 4))\n",
    "\n",
    "# Sonuçları yazdırın\n",
    "print(f\"Orijinal Dizi:\\n{random_integers}\")\n",
    "print(f\"En Küçük Değer: {min_value}\")\n",
    "print(f\"En Büyük Değer: {max_value}\")\n",
    "print(f\"Medyan Değer: {median_value}\")\n",
    "print(f\"Toplam: {sum_of_elements}\")\n",
    "print(f\"Ortalama: {mean_value}\")\n",
    "print(f\"Varyans: {variance_value}\")\n",
    "\n",
    "print(f\"Çift Sayılar: {even_numbers}, Sayısı: {even_count}, Toplamı: {even_sum}\")\n",
    "print(f\"5'in Katları: {multiples_of_five}, Sayısı: {multiples_of_five_count}, Toplamı: {multiples_of_five_sum}\")\n",
    "\n",
    "print(f\"Büyükten Küçüğe Sıralı Dizi:\\n{sorted_descending}\")\n",
    "print(f\"Ortalamanın Üzerindeki Elemanlar:\\n{above_mean}\")\n",
    "print(f\"Küp Alınmış Değerler Dizi:\\n{cubed_values_of_elements}\")\n",
    "print(f\"Yeniden Şekillendirilmiş (DIZI ELEMANLARINI 4 DEFA YAN YANA 4’ER DEFA ALT ALTA ) Dizi:\\n{reshaped_array}\")\n"
   ]
  },
  {
   "cell_type": "code",
   "execution_count": null,
   "metadata": {
    "editable": true,
    "slideshow": {
     "slide_type": ""
    },
    "tags": [],
    "trusted": true
   },
   "outputs": [],
   "source": []
  },
  {
   "cell_type": "code",
   "execution_count": null,
   "metadata": {
    "trusted": true
   },
   "outputs": [],
   "source": []
  }
 ],
 "metadata": {
  "kernelspec": {
   "display_name": "Python 3",
   "language": "python",
   "name": "python3"
  },
  "language_info": {
   "codemirror_mode": {
    "name": "ipython",
    "version": 3
   },
   "file_extension": ".py",
   "mimetype": "text/x-python",
   "name": "python",
   "nbconvert_exporter": "python",
   "pygments_lexer": "ipython3",
   "version": "3.12.2"
  }
 },
 "nbformat": 4,
 "nbformat_minor": 4
}
