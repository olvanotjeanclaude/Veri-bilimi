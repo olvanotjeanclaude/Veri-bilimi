{
  "cells": [
    {
      "cell_type": "code",
      "execution_count": 67,
      "metadata": {
        "trusted": true
      },
      "outputs": [],
      "source": [
        "import pandas as pd\n",
        "import numpy as np\n",
        "import matplotlib.pyplot as plt"
      ]
    },
    {
      "cell_type": "code",
      "execution_count": null,
      "metadata": {
        "trusted": true
      },
      "outputs": [],
      "source": []
    },
    {
      "cell_type": "code",
      "execution_count": 68,
      "metadata": {
        "trusted": true
      },
      "outputs": [],
      "source": [
        "\"\"\"\n",
        "1. Veri Çerçevesi (Dataframe) Oluşturma ve Temel İşlemler\n",
        "\"\"\"\n",
        "pass"
      ]
    },
    {
      "cell_type": "code",
      "execution_count": 69,
      "metadata": {
        "trusted": true
      },
      "outputs": [
        {
          "name": "stdout",
          "output_type": "stream",
          "text": [
            "DataFrame:\n",
            "      Öğrenci Adı  Yaş Cinsiyet                   Ders  Not\n",
            "0     Ayşe VODINA   20    Kadın          Veri Yapıları   85\n",
            "1     Büşra GEZER   22    Kadın  Veritabanı Sistemleri   90\n",
            "2   Damla CANİPEK   21    Kadın   Yazılım Mühendisliği   78\n",
            "3      Haki ERKAN   23    Erkek      Bilgisayar Ağları   88\n",
            "4    Musa KAHVECİ   20    Erkek     İşletim Sistemleri   92\n",
            "5  Muzaffer TIRAS   22    Erkek   Yazılım Mühendisliği   75\n",
            "6    Osman OZUGUR   24    Erkek         Siber Güvenlik   80\n",
            "7     Saniye GENC   21    Kadın       Makine Öğrenmesi   98\n",
            "8   Serdar VODINA   20    Kadın       Veri Madenciliği   85\n",
            "9    Yıldız SAHİN   22    Kadın             Yapay Zeka   89\n"
          ]
        }
      ],
      "source": [
        "data = {\n",
        "    'Öğrenci Adı': [\n",
        "        'Ayşe VODINA',\n",
        "        'Büşra GEZER',\n",
        "        'Damla CANİPEK',\n",
        "        'Haki ERKAN',\n",
        "        'Musa KAHVECİ',\n",
        "        'Muzaffer TIRAS',\n",
        "        'Osman OZUGUR',\n",
        "        'Saniye GENC',\n",
        "        'Serdar VODINA',\n",
        "        'Yıldız SAHİN'\n",
        "    ],\n",
        "    'Yaş': [20, 22, 21, 23, 20, 22, 24, 21, 20, 22],\n",
        "    'Cinsiyet': ['Kadın',  'Kadın', 'Kadın', 'Erkek', 'Erkek', 'Erkek', 'Erkek', 'Kadın', 'Kadın', 'Kadın'],\n",
        "    'Ders': [\n",
        "        'Veri Yapıları', 'Veritabanı Sistemleri',  'Yazılım Mühendisliği',\n",
        "        'Bilgisayar Ağları', 'İşletim Sistemleri', 'Yazılım Mühendisliği',\n",
        "        'Siber Güvenlik', 'Makine Öğrenmesi', 'Veri Madenciliği', 'Yapay Zeka'\n",
        "    ],\n",
        "    'Not': [85, 90, 78, 88, 92, 75, 80, 98, 85, 89]\n",
        "}\n",
        "\n",
        "\n",
        "df = pd.DataFrame(data)\n",
        "print(\"DataFrame:\")\n",
        "print(df)\n"
      ]
    },
    {
      "cell_type": "code",
      "execution_count": null,
      "metadata": {
        "trusted": true
      },
      "outputs": [],
      "source": []
    },
    {
      "cell_type": "code",
      "execution_count": 70,
      "metadata": {
        "trusted": true
      },
      "outputs": [
        {
          "name": "stdout",
          "output_type": "stream",
          "text": [
            "Ortalama Not: 86.0\n"
          ]
        }
      ],
      "source": [
        "# Tüm notların ortalaması\n",
        "average_grade = df['Not'].mean()\n",
        "print(\"Ortalama Not:\", average_grade)"
      ]
    },
    {
      "cell_type": "code",
      "execution_count": null,
      "metadata": {
        "trusted": true
      },
      "outputs": [],
      "source": []
    },
    {
      "cell_type": "code",
      "execution_count": 71,
      "metadata": {
        "trusted": true
      },
      "outputs": [
        {
          "name": "stdout",
          "output_type": "stream",
          "text": [
            "Yaşa göre sıralanmış öğrenciler (büyükten küçüğe):\n",
            "      Öğrenci Adı  Yaş Cinsiyet                   Ders  Not\n",
            "6    Osman OZUGUR   24    Erkek         Siber Güvenlik   80\n",
            "3      Haki ERKAN   23    Erkek      Bilgisayar Ağları   88\n",
            "9    Yıldız SAHİN   22    Kadın             Yapay Zeka   89\n",
            "1     Büşra GEZER   22    Kadın  Veritabanı Sistemleri   90\n",
            "5  Muzaffer TIRAS   22    Erkek   Yazılım Mühendisliği   75\n",
            "7     Saniye GENC   21    Kadın       Makine Öğrenmesi   98\n",
            "2   Damla CANİPEK   21    Kadın   Yazılım Mühendisliği   78\n",
            "0     Ayşe VODINA   20    Kadın          Veri Yapıları   85\n",
            "4    Musa KAHVECİ   20    Erkek     İşletim Sistemleri   92\n",
            "8   Serdar VODINA   20    Kadın       Veri Madenciliği   85\n"
          ]
        }
      ],
      "source": [
        "# Yaşa göre öğrencileri büyükten küçüğe sıralaması\n",
        "sorted_by_age = df.sort_values(by='Yaş', ascending=False)\n",
        "print(\"Yaşa göre sıralanmış öğrenciler (büyükten küçüğe):\")\n",
        "print(sorted_by_age)"
      ]
    },
    {
      "cell_type": "code",
      "execution_count": null,
      "metadata": {
        "trusted": true
      },
      "outputs": [],
      "source": []
    },
    {
      "cell_type": "code",
      "execution_count": 72,
      "metadata": {
        "trusted": true
      },
      "outputs": [
        {
          "name": "stdout",
          "output_type": "stream",
          "text": [
            "En yüksek notu alan öğrenci:\n",
            "Öğrenci Adı         Saniye GENC\n",
            "Yaş                          21\n",
            "Cinsiyet                  Kadın\n",
            "Ders           Makine Öğrenmesi\n",
            "Not                          98\n",
            "Name: 7, dtype: object\n"
          ]
        }
      ],
      "source": [
        "# En yüksek notu alan öğrenci\n",
        "highest_grade = df['Not'].idxmax()\n",
        "highest_grade_student = df.loc[highest_grade]\n",
        "print(\"En yüksek notu alan öğrenci:\")\n",
        "print(highest_grade_student)"
      ]
    },
    {
      "cell_type": "code",
      "execution_count": null,
      "metadata": {
        "trusted": true
      },
      "outputs": [],
      "source": []
    },
    {
      "cell_type": "code",
      "execution_count": 73,
      "metadata": {
        "trusted": true
      },
      "outputs": [
        {
          "name": "stdout",
          "output_type": "stream",
          "text": [
            "\n",
            "Derslere göre ortalama notlar:\n",
            "Ders\n",
            "Bilgisayar Ağları        88.0\n",
            "Makine Öğrenmesi         98.0\n",
            "Siber Güvenlik           80.0\n",
            "Veri Madenciliği         85.0\n",
            "Veri Yapıları            85.0\n",
            "Veritabanı Sistemleri    90.0\n",
            "Yapay Zeka               89.0\n",
            "Yazılım Mühendisliği     76.5\n",
            "İşletim Sistemleri       92.0\n",
            "Name: Not, dtype: float64\n"
          ]
        }
      ],
      "source": [
        "# Derslere göre notların ortalaması\n",
        "average_grade_by_subject = df.groupby('Ders')['Not'].mean()\n",
        "print(\"\\nDerslere göre ortalama notlar:\")\n",
        "print(average_grade_by_subject)"
      ]
    },
    {
      "cell_type": "code",
      "execution_count": null,
      "metadata": {
        "trusted": true
      },
      "outputs": [],
      "source": []
    },
    {
      "cell_type": "code",
      "execution_count": 74,
      "metadata": {
        "trusted": true
      },
      "outputs": [],
      "source": [
        "\"\"\"\n",
        "2. Eksik Veri Analizi ve Temizleme\n",
        "\"\"\"\n",
        "pass"
      ]
    },
    {
      "cell_type": "code",
      "execution_count": 75,
      "metadata": {
        "trusted": true
      },
      "outputs": [
        {
          "name": "stdout",
          "output_type": "stream",
          "text": [
            "Orijinal DataFrame:\n",
            "       Yolcu Adı  Yaş Cinsiyet Uçuş Numarası  Bilet Fiyatı\n",
            "0    Ahmet Demir   37    Kadın         TK101          2257\n",
            "1   Fatma Yılmaz   32    Erkek         TK102          3967\n",
            "2    Mehmet Kaya   60    Kadın         TK103          3757\n",
            "3     Aylin Kara   26    Erkek         TK104          2758\n",
            "4   Osman Öztürk   50    Kadın         TK105          2520\n",
            "5       Elif Gül   50    Erkek         TK106          3674\n",
            "6    Murat Şahin   49    Kadın         TK107          4547\n",
            "7    Selin Aksoy   43    Kadın         TK108          2653\n",
            "8  Canan Özdemir   53    Kadın         TK109          1893\n",
            "9    Barış Çelik   23    Erkek         TK110          1161\n"
          ]
        }
      ],
      "source": [
        "passenger_names = [\n",
        "    \"Ahmet Demir\", \"Fatma Yılmaz\", \"Mehmet Kaya\", \"Aylin Kara\", \"Osman Öztürk\",\n",
        "    \"Elif Gül\", \"Murat Şahin\", \"Selin Aksoy\", \"Canan Özdemir\", \"Barış Çelik\"\n",
        "]\n",
        "ages = np.random.randint(18, 65, size=10) \n",
        "genders = np.random.choice(['Erkek', 'Kadın'], size=10) \n",
        "flight_numbers = ['TK101', 'TK102', 'TK103', 'TK104', 'TK105', 'TK106', 'TK107', 'TK108', 'TK109', 'TK110'] \n",
        "ticket_prices = np.random.randint(750, 5000, size=10) \n",
        "\n",
        "df = pd.DataFrame({\n",
        "    'Yolcu Adı': passenger_names,\n",
        "    'Yaş': ages,\n",
        "    'Cinsiyet': genders,\n",
        "    'Uçuş Numarası': flight_numbers,\n",
        "    'Bilet Fiyatı': ticket_prices\n",
        "})\n",
        "\n",
        "print(\"Orijinal DataFrame:\")\n",
        "print(df)"
      ]
    },
    {
      "cell_type": "code",
      "execution_count": null,
      "metadata": {
        "trusted": true
      },
      "outputs": [],
      "source": []
    },
    {
      "cell_type": "code",
      "execution_count": 76,
      "metadata": {
        "trusted": true
      },
      "outputs": [
        {
          "name": "stdout",
          "output_type": "stream",
          "text": [
            "\n",
            "Dataframe (Eksik Değerler ile):\n",
            "       Yolcu Adı  Yaş Cinsiyet Uçuş Numarası  Bilet Fiyatı\n",
            "0    Ahmet Demir   37    Kadın         TK101        2257.0\n",
            "1   Fatma Yılmaz   32    Erkek           NaN           NaN\n",
            "2    Mehmet Kaya   60    Kadın         TK103        3757.0\n",
            "3     Aylin Kara   26    Erkek         TK104        2758.0\n",
            "4   Osman Öztürk   50    Kadın           NaN           NaN\n",
            "5       Elif Gül   50    Erkek           NaN           NaN\n",
            "6    Murat Şahin   49    Kadın         TK107        4547.0\n",
            "7    Selin Aksoy   43    Kadın         TK108        2653.0\n",
            "8  Canan Özdemir   53    Kadın         TK109        1893.0\n",
            "9    Barış Çelik   23    Erkek         TK110        1161.0\n"
          ]
        }
      ],
      "source": [
        "# 'Bilet Fiyatı' ve 'Uçuş Numarası' sütunlarına NaN'ın eklenmesi\n",
        "size = np.random.randint(3, 5)\n",
        "nan_indices = np.random.choice(df.index, size=size, replace=False)  # Rastgele indeks (Eksik değerler için)\n",
        "df.loc[nan_indices, 'Bilet Fiyatı'] = np.nan\n",
        "df.loc[nan_indices, 'Uçuş Numarası'] = np.nan\n",
        "print(\"\\nDataframe (Eksik Değerler ile):\")\n",
        "print(df)"
      ]
    },
    {
      "cell_type": "code",
      "execution_count": null,
      "metadata": {
        "trusted": true
      },
      "outputs": [],
      "source": []
    },
    {
      "cell_type": "code",
      "execution_count": 77,
      "metadata": {
        "trusted": true
      },
      "outputs": [
        {
          "name": "stdout",
          "output_type": "stream",
          "text": [
            "\n",
            "Eksik Değerlerin Sayısı:\n",
            "Yolcu Adı        0\n",
            "Yaş              0\n",
            "Cinsiyet         0\n",
            "Uçuş Numarası    3\n",
            "Bilet Fiyatı     3\n",
            "dtype: int64\n",
            "\n",
            "Eksik Değerlerin oranı:\n",
            "Yolcu Adı         0.0\n",
            "Yaş               0.0\n",
            "Cinsiyet          0.0\n",
            "Uçuş Numarası    30.0\n",
            "Bilet Fiyatı     30.0\n",
            "dtype: float64\n"
          ]
        }
      ],
      "source": [
        "# Eksik değerlerin sayısı ve oranı\n",
        "missing_data_count = df.isna().sum()  \n",
        "missing_data_percentage = df.isna().mean() * 100 \n",
        "\n",
        "print(\"\\nEksik Değerlerin Sayısı:\")\n",
        "print(missing_data_count)\n",
        "print(\"\\nEksik Değerlerin oranı:\")\n",
        "print(missing_data_percentage)"
      ]
    },
    {
      "cell_type": "code",
      "execution_count": 78,
      "metadata": {
        "trusted": true
      },
      "outputs": [],
      "source": [
        "df_copy= df.copy()"
      ]
    },
    {
      "cell_type": "code",
      "execution_count": 79,
      "metadata": {
        "trusted": true
      },
      "outputs": [
        {
          "name": "stdout",
          "output_type": "stream",
          "text": [
            "\n",
            "'Bilet Fiyatı' sütununun Ortalama Değeri: 2718.0\n",
            "\n",
            "'Uçuş Numarası' sütununun  Değeri: ['TK207' 'TK207' 'LH430']\n",
            "\n",
            "Eksik Değerler Ortalamalarla ve uçuş numaraları ile Doldurulmuş DataFrame:\n",
            "       Yolcu Adı  Yaş Cinsiyet Uçuş Numarası  Bilet Fiyatı\n",
            "0    Ahmet Demir   37    Kadın         TK101        2257.0\n",
            "1   Fatma Yılmaz   32    Erkek         TK207        2718.0\n",
            "2    Mehmet Kaya   60    Kadın         TK103        3757.0\n",
            "3     Aylin Kara   26    Erkek         TK104        2758.0\n",
            "4   Osman Öztürk   50    Kadın         TK207        2718.0\n",
            "5       Elif Gül   50    Erkek         LH430        2718.0\n",
            "6    Murat Şahin   49    Kadın         TK107        4547.0\n",
            "7    Selin Aksoy   43    Kadın         TK108        2653.0\n",
            "8  Canan Özdemir   53    Kadın         TK109        1893.0\n",
            "9    Barış Çelik   23    Erkek         TK110        1161.0\n"
          ]
        }
      ],
      "source": [
        "# Eksik değerleri doldurma\n",
        "average_bilet_fiyati = df['Bilet Fiyatı'].mean()\n",
        "\n",
        "random_flight_data = [\n",
        "    \"AF296Q\", \"VF3000\", \"TK207\", \"PC3000\", \"QR500\",\n",
        "    \"EK202\", \"BA215\", \"LH430\", \"DL120\", \"AA100\"\n",
        "]\n",
        "nan_flight_indices = df['Uçuş Numarası'].isna()\n",
        "nan_random_fligthts= np.random.choice(random_flight_data, size=nan_flight_indices.sum())\n",
        "\n",
        "# Eksik 'Bilet Fiyatı' ve 'Uçuş Numarası' doldurulması\n",
        "df['Bilet Fiyatı'] = df['Bilet Fiyatı'].fillna(average_bilet_fiyati) \n",
        "df.loc[nan_flight_indices, 'Uçuş Numarası'] = nan_random_fligthts\n",
        "\n",
        "print(\"\\n'Bilet Fiyatı' sütununun Ortalama Değeri:\", average_bilet_fiyati)\n",
        "print(\"\\n'Uçuş Numarası' sütununun  Değeri:\", nan_random_fligthts)\n",
        "\n",
        "print(\"\\nEksik Değerler Ortalamalarla ve uçuş numaraları ile Doldurulmuş DataFrame:\")\n",
        "print(df)"
      ]
    },
    {
      "cell_type": "code",
      "execution_count": null,
      "metadata": {
        "trusted": true
      },
      "outputs": [],
      "source": []
    },
    {
      "cell_type": "code",
      "execution_count": 80,
      "metadata": {
        "trusted": true
      },
      "outputs": [
        {
          "name": "stdout",
          "output_type": "stream",
          "text": [
            "Eksik Değerler İçeren Satırların Silindiği DataFrame:\n",
            "       Yolcu Adı  Yaş Cinsiyet Uçuş Numarası  Bilet Fiyatı\n",
            "0    Ahmet Demir   37    Kadın         TK101        2257.0\n",
            "2    Mehmet Kaya   60    Kadın         TK103        3757.0\n",
            "3     Aylin Kara   26    Erkek         TK104        2758.0\n",
            "6    Murat Şahin   49    Kadın         TK107        4547.0\n",
            "7    Selin Aksoy   43    Kadın         TK108        2653.0\n",
            "8  Canan Özdemir   53    Kadın         TK109        1893.0\n",
            "9    Barış Çelik   23    Erkek         TK110        1161.0\n"
          ]
        }
      ],
      "source": [
        "# Eksik değerleri içeren satırları silerek yeni bir DataFrame oluşturulması\n",
        "df_dropped = df_copy.dropna()  \n",
        "print(\"Eksik Değerler İçeren Satırların Silindiği DataFrame:\")\n",
        "print(df_dropped)"
      ]
    },
    {
      "cell_type": "code",
      "execution_count": null,
      "metadata": {
        "trusted": true
      },
      "outputs": [],
      "source": []
    },
    {
      "cell_type": "code",
      "execution_count": null,
      "metadata": {
        "trusted": true
      },
      "outputs": [],
      "source": []
    },
    {
      "cell_type": "code",
      "execution_count": 81,
      "metadata": {
        "trusted": true
      },
      "outputs": [],
      "source": [
        "\"\"\"\n",
        "3. CSV Dosyası Okuma ve Analiz Etme\n",
        "\"\"\"\n",
        "pass"
      ]
    },
    {
      "cell_type": "code",
      "execution_count": 82,
      "metadata": {
        "trusted": true
      },
      "outputs": [],
      "source": [
        "df = pd.read_csv('customers.csv')"
      ]
    },
    {
      "cell_type": "code",
      "execution_count": null,
      "metadata": {
        "trusted": true
      },
      "outputs": [],
      "source": []
    },
    {
      "cell_type": "code",
      "execution_count": 83,
      "metadata": {
        "trusted": true
      },
      "outputs": [
        {
          "name": "stdout",
          "output_type": "stream",
          "text": [
            "Toplam Satır Sayısı: 20, Toplam Sütun Sayısı: 8\n"
          ]
        }
      ],
      "source": [
        "#Toplam satır ve sütun sayısını öğrenme\n",
        "rows, columns = df.shape\n",
        "print(f\"Toplam Satır Sayısı: {rows}, Toplam Sütun Sayısı: {columns}\")"
      ]
    },
    {
      "cell_type": "code",
      "execution_count": null,
      "metadata": {
        "trusted": true
      },
      "outputs": [],
      "source": []
    },
    {
      "cell_type": "code",
      "execution_count": 84,
      "metadata": {
        "trusted": true
      },
      "outputs": [
        {
          "name": "stdout",
          "output_type": "stream",
          "text": [
            "\n",
            "İstatistiksel Özet:\n",
            "             Yaş  Bilet Fiyatı\n",
            "count  20.000000     20.000000\n",
            "mean   37.900000    702.000000\n",
            "std     9.618513    517.205039\n",
            "min    25.000000    120.000000\n",
            "25%    29.750000    242.500000\n",
            "50%    36.000000    550.000000\n",
            "75%    45.000000   1050.000000\n",
            "max    60.000000   1800.000000\n",
            "\n",
            "Yaş İstatistikleri:\n",
            "Ortalama Yaş: 37.9\n",
            "Medyan Yaş: 36.0\n",
            "Yaş Standart Sapma: 9.618512851459117\n",
            "Yaş Varyansı: 92.51578947368421\n",
            "Yaş Range: 35\n",
            "\n",
            "Bilet Fiyatı İstatistikleri:\n",
            "Ortalama Bilet Fiyatı: 702.0\n",
            "Medyan Bilet Fiyatı: 550.0\n",
            "Bilet Fiyatı Standart Sapma: 517.2050392557858\n",
            "Bilet Fiyatı Varyansı: 267501.05263157893\n",
            "Bilet Fiyatı Range: 1680\n",
            "En Yaygın Bilet Fiyatı: 220\n"
          ]
        }
      ],
      "source": [
        "# İstatistiksel bilgiler\n",
        "statistics = df.describe()  # describe() fonksiyonu otomatik olarak count, mean, std, min, 25%, 50%, 75%, max hesaplar\n",
        "print(\"\\nİstatistiksel Özet:\")\n",
        "print(statistics)\n",
        "\n",
        "# fazla istatistik hesaplama\n",
        "mean_age = df['Yaş'].mean()\n",
        "median_age = df['Yaş'].median()\n",
        "std_age = df['Yaş'].std()\n",
        "variance_age = df['Yaş'].var() \n",
        "range_age = df['Yaş'].max() - df['Yaş'].min() \n",
        "\n",
        "\n",
        "mean_ticket_price = df['Bilet Fiyatı'].mean()\n",
        "median_ticket_price = df['Bilet Fiyatı'].median()\n",
        "std_ticket_price = df['Bilet Fiyatı'].std()\n",
        "variance_ticket_price = df['Bilet Fiyatı'].var() \n",
        "range_ticket_price = df['Bilet Fiyatı'].max() - df['Bilet Fiyatı'].min() \n",
        "mode_ticket_price = df['Bilet Fiyatı'].mode()[0]\n",
        "\n",
        "# Yaş ve Bilet Fiyatı için hesaplanan diğer önemli istatistikler\n",
        "print(\"\\nYaş İstatistikleri:\")\n",
        "print(f\"Ortalama Yaş: {mean_age}\")\n",
        "print(f\"Medyan Yaş: {median_age}\")\n",
        "print(f\"Yaş Standart Sapma: {std_age}\")\n",
        "print(f\"Yaş Varyansı: {variance_age}\")\n",
        "print(f\"Yaş Range: {range_age}\")\n",
        "\n",
        "print(\"\\nBilet Fiyatı İstatistikleri:\")\n",
        "print(f\"Ortalama Bilet Fiyatı: {mean_ticket_price}\")\n",
        "print(f\"Medyan Bilet Fiyatı: {median_ticket_price}\")\n",
        "print(f\"Bilet Fiyatı Standart Sapma: {std_ticket_price}\")\n",
        "print(f\"Bilet Fiyatı Varyansı: {variance_ticket_price}\")\n",
        "print(f\"Bilet Fiyatı Range: {range_ticket_price}\")\n",
        "print(f\"En Yaygın Bilet Fiyatı: {mode_ticket_price}\")"
      ]
    },
    {
      "cell_type": "code",
      "execution_count": null,
      "metadata": {
        "trusted": true
      },
      "outputs": [],
      "source": []
    },
    {
      "cell_type": "code",
      "execution_count": 85,
      "metadata": {
        "trusted": true
      },
      "outputs": [
        {
          "name": "stdout",
          "output_type": "stream",
          "text": [
            "\n",
            "Bilet Fiyatına Göre İlk 10 Satır:\n",
            "   MüşteriID               Ad  Yaş Cinsiyet Satın Alınan Ürün  Bilet Fiyatı  \\\n",
            "7       C008    Hüseyin Çınar   40    Erkek            Laptop          1800   \n",
            "0       C001      Ayşe Yılmaz   34    Kadın            Laptop          1500   \n",
            "19      C020    Gökhan Yıldız   48    Erkek            Laptop          1450   \n",
            "16      C017  Kemal Bayraktar   39    Erkek            Laptop          1300   \n",
            "11      C012     Ali Demirtaş   41    Erkek            Laptop          1200   \n",
            "5       C006      Mehmet Kara   60    Erkek        Smartphone          1000   \n",
            "15      C016     Deniz Karaca   27    Kadın        Smartphone           850   \n",
            "1       C002    Murat Özdemir   45    Erkek        Smartphone           800   \n",
            "10      C011       Elif Şahin   34    Kadın        Smartphone           750   \n",
            "18      C019      Recep Demir   31    Erkek            Tablet           600   \n",
            "\n",
            "   Satın Alma Tarihi     Bölge  \n",
            "7         2024-04-15    Ankara  \n",
            "0         2024-01-15  Istanbul  \n",
            "19        2024-03-08  Istanbul  \n",
            "16        2024-03-15    Ankara  \n",
            "11        2024-03-10    Ankara  \n",
            "5         2024-04-05  Istanbul  \n",
            "15        2024-01-23     Adana  \n",
            "1         2024-02-20    Ankara  \n",
            "10        2024-02-05  Istanbul  \n",
            "18        2024-03-01     Adana  \n"
          ]
        }
      ],
      "source": [
        "# 'Bilet Fiyatı'na göre sıralaması ve ilk 10 satırı \n",
        "sorted_df = df.sort_values(by='Bilet Fiyatı', ascending=False)  \n",
        "print(\"\\nBilet Fiyatına Göre İlk 10 Satır:\")\n",
        "print(sorted_df.head(10))"
      ]
    },
    {
      "cell_type": "code",
      "execution_count": null,
      "metadata": {
        "trusted": true
      },
      "outputs": [],
      "source": []
    },
    {
      "cell_type": "code",
      "execution_count": 86,
      "metadata": {
        "trusted": true
      },
      "outputs": [
        {
          "name": "stdout",
          "output_type": "stream",
          "text": [
            "\n",
            "Bilet Fiyatı 500'den Büyük Olan Satırlar:\n",
            "               Name  Age Gender     Product  Price Purchase Date    Region\n",
            "0       Ayşe Yılmaz   34  Kadın      Laptop   1500    2024-01-15  Istanbul\n",
            "1     Murat Özdemir   45  Erkek  Smartphone    800    2024-02-20    Ankara\n",
            "5       Mehmet Kara   60  Erkek  Smartphone   1000    2024-04-05  Istanbul\n",
            "7     Hüseyin Çınar   40  Erkek      Laptop   1800    2024-04-15    Ankara\n",
            "10       Elif Şahin   34  Kadın  Smartphone    750    2024-02-05  Istanbul\n",
            "11     Ali Demirtaş   41  Erkek      Laptop   1200    2024-03-10    Ankara\n",
            "15     Deniz Karaca   27  Kadın  Smartphone    850    2024-01-23     Adana\n",
            "16  Kemal Bayraktar   39  Erkek      Laptop   1300    2024-03-15    Ankara\n",
            "18      Recep Demir   31  Erkek      Tablet    600    2024-03-01     Adana\n",
            "19    Gökhan Yıldız   48  Erkek      Laptop   1450    2024-03-08  Istanbul\n"
          ]
        }
      ],
      "source": [
        "# Bilet Fiyatı 500'den büyük olan satırları filtrelemesi\n",
        "columns_to_select = ['Ad', 'Yaş', 'Cinsiyet', 'Satın Alınan Ürün', 'Bilet Fiyatı', 'Satın Alma Tarihi', 'Bölge']\n",
        "renamed_columns = {\n",
        "    'Ad': 'Name',\n",
        "    'Yaş': 'Age',\n",
        "    'Cinsiyet': 'Gender',\n",
        "    'Satın Alınan Ürün': 'Product',\n",
        "    'Bilet Fiyatı': 'Price',\n",
        "    'Satın Alma Tarihi': 'Purchase Date',\n",
        "    'Bölge': 'Region'\n",
        "}\n",
        "\n",
        "df_filtered = df[df['Bilet Fiyatı'] > 500][columns_to_select].rename(columns=renamed_columns)\n",
        "\n",
        "print(\"\\nBilet Fiyatı 500'den Büyük Olan Satırlar:\")\n",
        "print(df_filtered)"
      ]
    },
    {
      "cell_type": "code",
      "execution_count": null,
      "metadata": {
        "trusted": true
      },
      "outputs": [],
      "source": [
        "    "
      ]
    },
    {
      "cell_type": "code",
      "execution_count": 87,
      "metadata": {
        "trusted": true
      },
      "outputs": [
        {
          "name": "stdout",
          "output_type": "stream",
          "text": [
            "\n",
            "Bölgeye Göre En Çok Alınan Ürünler:\n",
            "Bölge\n",
            "Adana           Tablet\n",
            "Ankara          Laptop\n",
            "Bursa       Smartwatch\n",
            "Istanbul        Laptop\n",
            "İzmir       Headphones\n",
            "Name: Satın Alınan Ürün, dtype: object\n"
          ]
        }
      ],
      "source": [
        "# 'Bölge'ye göre en çok alınan ürünü belirlenmesi\n",
        "most_purchased_by_region = df.groupby('Bölge')['Satın Alınan Ürün'].agg(lambda x: x.mode()[0])\n",
        "print(\"\\nBölgeye Göre En Çok Alınan Ürünler:\")\n",
        "print(most_purchased_by_region)"
      ]
    },
    {
      "cell_type": "code",
      "execution_count": null,
      "metadata": {
        "trusted": true
      },
      "outputs": [],
      "source": []
    },
    {
      "cell_type": "code",
      "execution_count": 88,
      "metadata": {
        "trusted": true
      },
      "outputs": [
        {
          "name": "stdout",
          "output_type": "stream",
          "text": [
            "\n",
            "En Eski Satın Alma Tarihi: 2024-01-15\n",
            "En Yeni Satın Alma Tarihi: 2024-04-15\n"
          ]
        }
      ],
      "source": [
        "# Satın Alma Tarihini datetime formatına çevirip, en eski ve en yeni satın alma tarihlerine bakıyoruz\n",
        "oldest_purchase = df['Satın Alma Tarihi'].min()\n",
        "newest_purchase = df['Satın Alma Tarihi'].max()\n",
        "\n",
        "print(\"\\nEn Eski Satın Alma Tarihi:\", oldest_purchase)\n",
        "print(\"En Yeni Satın Alma Tarihi:\", newest_purchase)"
      ]
    },
    {
      "cell_type": "code",
      "execution_count": null,
      "metadata": {
        "trusted": true
      },
      "outputs": [],
      "source": []
    },
    {
      "cell_type": "code",
      "execution_count": 89,
      "metadata": {
        "trusted": true
      },
      "outputs": [
        {
          "name": "stdout",
          "output_type": "stream",
          "text": [
            "\n",
            "Bölgeye Göre Satın Alınan Ürün Sayısı:\n",
            "Bölge\n",
            "Istanbul    5\n",
            "Ankara      4\n",
            "Bursa       4\n",
            "Adana       4\n",
            "İzmir       3\n",
            "Name: count, dtype: int64\n"
          ]
        }
      ],
      "source": [
        "# Satın alınan ürünlerin sayısını bölgelere göre sayma\n",
        "purchase_count_by_region = df['Bölge'].value_counts()\n",
        "print(\"\\nBölgeye Göre Satın Alınan Ürün Sayısı:\")\n",
        "print(purchase_count_by_region)"
      ]
    },
    {
      "cell_type": "code",
      "execution_count": null,
      "metadata": {
        "trusted": true
      },
      "outputs": [],
      "source": []
    },
    {
      "cell_type": "code",
      "execution_count": 90,
      "metadata": {
        "trusted": true
      },
      "outputs": [
        {
          "name": "stdout",
          "output_type": "stream",
          "text": [
            "\n",
            "En Yüksek Bilet Fiyatı: 1800\n",
            "En Düşük Bilet Fiyatı: 120\n"
          ]
        }
      ],
      "source": [
        "# En yüksek bilet fiyatı ve en düşük bilet fiyatı\n",
        "max_ticket_price = df['Bilet Fiyatı'].max()\n",
        "min_ticket_price = df['Bilet Fiyatı'].min()\n",
        "\n",
        "print(f\"\\nEn Yüksek Bilet Fiyatı: {max_ticket_price}\")\n",
        "print(f\"En Düşük Bilet Fiyatı: {min_ticket_price}\")"
      ]
    },
    {
      "cell_type": "code",
      "execution_count": null,
      "metadata": {
        "trusted": true
      },
      "outputs": [],
      "source": []
    },
    {
      "cell_type": "code",
      "execution_count": 91,
      "metadata": {
        "trusted": true
      },
      "outputs": [
        {
          "name": "stdout",
          "output_type": "stream",
          "text": [
            "\n",
            "En Son Satın Alma İşlemi Yapılan Müşteri:\n",
            "  MüşteriID             Ad  Yaş Cinsiyet Satın Alınan Ürün  Bilet Fiyatı  \\\n",
            "7      C008  Hüseyin Çınar   40    Erkek            Laptop          1800   \n",
            "\n",
            "  Satın Alma Tarihi   Bölge  \n",
            "7        2024-04-15  Ankara  \n"
          ]
        }
      ],
      "source": [
        "# En son satın alma işlemi yapılmış olan müşteriyi bulma\n",
        "latest_purchase_customer = df[df['Satın Alma Tarihi'] == newest_purchase]\n",
        "\n",
        "print(\"\\nEn Son Satın Alma İşlemi Yapılan Müşteri:\")\n",
        "print(latest_purchase_customer)"
      ]
    },
    {
      "cell_type": "code",
      "execution_count": null,
      "metadata": {
        "trusted": true
      },
      "outputs": [],
      "source": []
    },
    {
      "cell_type": "code",
      "execution_count": null,
      "metadata": {
        "trusted": true
      },
      "outputs": [],
      "source": []
    },
    {
      "cell_type": "code",
      "execution_count": 92,
      "metadata": {
        "trusted": true
      },
      "outputs": [],
      "source": [
        "\"\"\"\n",
        "4. Gruplama ve Toplulaştırma İşlemleri\n",
        "\"\"\"\n",
        "pass"
      ]
    },
    {
      "cell_type": "code",
      "execution_count": 93,
      "metadata": {
        "trusted": true
      },
      "outputs": [
        {
          "name": "stdout",
          "output_type": "stream",
          "text": [
            "Dataframe :\n",
            "                              Bölüm                       Öğrenci Adı  Not\n",
            "0           Bilgisayar Mühendisliği                       Ayşe Yılmaz   85\n",
            "1           Bilgisayar Mühendisliği                      Mehmet Demir   90\n",
            "2               Makine Mühendisliği                          Ali Veli   75\n",
            "3               Makine Mühendisliği                      Zeynep Kılıç   80\n",
            "4  Elektrik Elektronik Mühendisliği                     Murat Özdemir   95\n",
            "5  Elektrik Elektronik Mühendisliği                       Fatma Aslan   88\n",
            "6   Bilişim Sistemleri Mühendisliği                        Emre Güler   92\n",
            "7   Bilişim Sistemleri Mühendisliği  Olvanot Jean Claude Rakotonirina   78\n",
            "8           Bilgisayar Mühendisliği                         Murat Can   85\n",
            "9   Bilişim Sistemleri Mühendisliği                       Fatih Kılıç   91\n"
          ]
        }
      ],
      "source": [
        "data = {\n",
        "    'Bölüm': [\n",
        "        'Bilgisayar Mühendisliği', 'Bilgisayar Mühendisliği',\n",
        "        'Makine Mühendisliği', 'Makine Mühendisliği',\n",
        "        'Elektrik Elektronik Mühendisliği', 'Elektrik Elektronik Mühendisliği',\n",
        "        'Bilişim Sistemleri Mühendisliği', 'Bilişim Sistemleri Mühendisliği',\n",
        "        'Bilgisayar Mühendisliği', 'Bilişim Sistemleri Mühendisliği'],\n",
        "    'Öğrenci Adı': [\n",
        "        'Ayşe Yılmaz',\n",
        "        'Mehmet Demir',\n",
        "        'Ali Veli',\n",
        "        'Zeynep Kılıç',\n",
        "        'Murat Özdemir',\n",
        "        'Fatma Aslan',\n",
        "        'Emre Güler',\n",
        "        'Olvanot Jean Claude Rakotonirina',\n",
        "        'Murat Can',\n",
        "        'Fatih Kılıç'\n",
        "    ],\n",
        "    'Not': [85, 90, 75, 80, 95, 88, 92, 78, 85, 91]\n",
        "}\n",
        "\n",
        "df = pd.DataFrame(data)\n",
        "print(\"Dataframe :\")\n",
        "print(df)"
      ]
    },
    {
      "cell_type": "code",
      "execution_count": null,
      "metadata": {
        "trusted": true
      },
      "outputs": [],
      "source": []
    },
    {
      "cell_type": "code",
      "execution_count": 94,
      "metadata": {
        "trusted": true
      },
      "outputs": [
        {
          "name": "stdout",
          "output_type": "stream",
          "text": [
            "\n",
            "Bölüme göre Notların Ortalaması ve Maksimum Değeri:\n",
            "                              Bölüm       mean  max\n",
            "0           Bilgisayar Mühendisliği  86.666667   90\n",
            "1   Bilişim Sistemleri Mühendisliği  87.000000   92\n",
            "2  Elektrik Elektronik Mühendisliği  91.500000   95\n",
            "3               Makine Mühendisliği  77.500000   80\n"
          ]
        }
      ],
      "source": [
        "# Bölüme göre notların ortalamasını ve maksimum değeri\n",
        "grouped = df.groupby('Bölüm')['Not'].agg(['mean', 'max']).reset_index()\n",
        "\n",
        "print(\"\\nBölüme göre Notların Ortalaması ve Maksimum Değeri:\")\n",
        "print(grouped)"
      ]
    },
    {
      "cell_type": "code",
      "execution_count": null,
      "metadata": {
        "trusted": true
      },
      "outputs": [],
      "source": []
    },
    {
      "cell_type": "code",
      "execution_count": 95,
      "metadata": {
        "trusted": true
      },
      "outputs": [
        {
          "name": "stdout",
          "output_type": "stream",
          "text": [
            "\n",
            "Bölüme Göre Öğrenci Sayısı:\n",
            "                              Bölüm  Öğrenci Sayısı\n",
            "0           Bilgisayar Mühendisliği               3\n",
            "1   Bilişim Sistemleri Mühendisliği               3\n",
            "2  Elektrik Elektronik Mühendisliği               2\n",
            "3               Makine Mühendisliği               2\n"
          ]
        }
      ],
      "source": [
        "# Bölümlere göre öğrenci sayısını hesaplayarak bir tablo oluşturunuz. \n",
        "student_count = df.groupby('Bölüm')['Öğrenci Adı'].count().reset_index()\n",
        "student_count.rename(columns={'Öğrenci Adı': 'Öğrenci Sayısı'}, inplace=True)\n",
        "\n",
        "print(\"\\nBölüme Göre Öğrenci Sayısı:\")\n",
        "print(student_count)"
      ]
    },
    {
      "cell_type": "code",
      "execution_count": null,
      "metadata": {
        "trusted": true
      },
      "outputs": [],
      "source": []
    },
    {
      "cell_type": "code",
      "execution_count": null,
      "metadata": {
        "trusted": true
      },
      "outputs": [],
      "source": []
    },
    {
      "cell_type": "code",
      "execution_count": 96,
      "metadata": {
        "trusted": true
      },
      "outputs": [],
      "source": [
        "\"\"\"\n",
        "5. Zaman Serisi Analizi \n",
        "\"\"\"\n",
        "pass"
      ]
    },
    {
      "cell_type": "code",
      "execution_count": null,
      "metadata": {
        "trusted": true
      },
      "outputs": [],
      "source": []
    },
    {
      "cell_type": "code",
      "execution_count": 97,
      "metadata": {
        "trusted": true
      },
      "outputs": [
        {
          "name": "stdout",
          "output_type": "stream",
          "text": [
            "Dataframe:\n",
            "        Tarih  Satış Miktarı\n",
            "0  2024-01-01     382.845550\n",
            "1  2024-01-02     551.019212\n",
            "2  2024-01-03     467.897059\n",
            "3  2024-01-04     504.542313\n",
            "4  2024-01-05     232.123944\n",
            "5  2024-01-06     517.480580\n",
            "6  2024-01-07     462.114391\n",
            "7  2024-01-08     433.633664\n",
            "8  2024-01-09     228.057259\n",
            "9  2024-01-10     236.011850\n",
            "10 2024-01-11     378.598969\n",
            "11 2024-01-12     543.519956\n",
            "12 2024-01-13     486.678370\n",
            "13 2024-01-14     201.161819\n",
            "14 2024-01-15     524.403905\n",
            "15 2024-01-16     454.272383\n",
            "16 2024-01-17     338.382909\n",
            "17 2024-01-18     468.481831\n",
            "18 2024-01-19     467.621898\n",
            "19 2024-01-20     275.562909\n",
            "20 2024-01-21     450.916292\n",
            "21 2024-01-22     526.622075\n",
            "22 2024-01-23     282.630692\n",
            "23 2024-01-24     451.066662\n",
            "24 2024-01-25     440.287283\n",
            "25 2024-01-26     252.184481\n",
            "26 2024-01-27     443.946906\n",
            "27 2024-01-28     303.239363\n",
            "28 2024-01-29     246.676868\n",
            "29 2024-01-30     380.847889\n",
            "30 2024-01-31     314.961969\n"
          ]
        },
        {
          "data": {
            "image/png": "[encoded data removed]",
            "text/plain": [
              "<Figure size 1000x600 with 1 Axes>"
            ]
          },
          "metadata": {},
          "output_type": "display_data"
        }
      ],
      "source": [
        "date_range = pd.date_range(start='2024-01-01', end='2024-01-31', freq='D')\n",
        "\n",
        "sales = np.random.uniform(200, 600, size=len(date_range)) \n",
        "\n",
        "df = pd.DataFrame({'Tarih': date_range, 'Satış Miktarı': sales})\n",
        "\n",
        "print(\"Dataframe:\")\n",
        "print(df)\n",
        "\n",
        "# Zaman serisinin ortalamasını ve toplamı\n",
        "average_sales = df['Satış Miktarı'].mean()\n",
        "total_sales = df['Satış Miktarı'].sum()\n",
        "\n",
        "# Haftalık Toplam Satış Miktarını Hesaplama ve Grafik Çizme\n",
        "df.set_index('Tarih', inplace=True)  \n",
        "weekly_sales = df.resample('W').sum()  # Haftalık toplamları \n",
        "\n",
        "plt.figure(figsize=(10, 6))\n",
        "plt.plot(weekly_sales.index, weekly_sales['Satış Miktarı'], marker='o', linestyle='-', color='b')\n",
        "plt.title('Haftalık Toplam Satış Miktarı')\n",
        "plt.xlabel('Tarih')\n",
        "plt.ylabel('Toplam Satış Miktarı')\n",
        "plt.grid(True)\n",
        "plt.show()"
      ]
    },
    {
      "cell_type": "code",
      "execution_count": null,
      "metadata": {
        "trusted": true
      },
      "outputs": [],
      "source": []
    },
    {
      "cell_type": "code",
      "execution_count": 98,
      "metadata": {
        "trusted": true
      },
      "outputs": [
        {
          "name": "stdout",
          "output_type": "stream",
          "text": [
            "\n",
            "Zaman Serisinin Ortalama Satış Miktarı: 395.0900402900432\n",
            "Zaman Serisinin Toplam Satış Miktarı: 12247.79124899134\n",
            "\n",
            "Satış Miktarını Küçükten Büyüğe Sıralayarak İlk 5 Gün:\n",
            "            Satış Miktarı\n",
            "Tarih                    \n",
            "2024-01-14     201.161819\n",
            "2024-01-09     228.057259\n",
            "2024-01-05     232.123944\n",
            "2024-01-10     236.011850\n",
            "2024-01-29     246.676868\n"
          ]
        }
      ],
      "source": [
        "# Satış Miktarını Küçükten Büyüğe Sıralayarak İlk 5 Günü Görüntüleme\n",
        "sorted_sales = df.sort_values(by='Satış Miktarı').head(5)\n",
        "\n",
        "print(f\"\\nZaman Serisinin Ortalama Satış Miktarı: {average_sales}\")\n",
        "print(f\"Zaman Serisinin Toplam Satış Miktarı: {total_sales}\")\n",
        "print(\"\\nSatış Miktarını Küçükten Büyüğe Sıralayarak İlk 5 Gün:\")\n",
        "print(sorted_sales)"
      ]
    },
    {
      "cell_type": "code",
      "execution_count": null,
      "metadata": {
        "trusted": true
      },
      "outputs": [],
      "source": []
    }
  ],
  "metadata": {
    "kernelspec": {
      "display_name": "Python 3",
      "language": "python",
      "name": "python3"
    },
    "language_info": {
      "codemirror_mode": {
        "name": "ipython",
        "version": 3
      },
      "file_extension": ".py",
      "mimetype": "text/x-python",
      "name": "python",
      "nbconvert_exporter": "python",
      "pygments_lexer": "ipython3",
      "version": "3.12.2"
    }
  },
  "nbformat": 4,
  "nbformat_minor": 4
}
